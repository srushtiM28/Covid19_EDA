{
 "cells": [
  {
   "cell_type": "markdown",
   "metadata": {},
   "source": [
    "# Risk Analysis of Covid19 Virus\n",
    "\n",
    "* As the outbreak of coronavirus disease 2019 (COVID-19) progresses, epidemiological data are needed to guide situational awareness and intervention strategies. The enormous impact of the COVID-19 pandemic is obvious. What many still haven’t realized, however, is that the impact on ongoing data science production setups has been dramatic, too.\n",
    "* Artificial Intelligence is actively used in identifying high risk patients at an earlier stage and therefore helps to control the spread of the infection in real-time. This becomes particularly important at this time of crisis because real time monitoring is the best option for people to self-isolate and mitigate the spread of the virus."
   ]
  },
  {
   "cell_type": "markdown",
   "metadata": {},
   "source": [
    "# Objective :\n",
    "* To determine the risk factor of second-level contacts traced for a COVID19 Positive patient.\n",
    "* To deciding which all factors should be considered for a healthcare institute to open a dedicated testing-quarantine labs and/or predict the possibility of a zone turning into a hotspot."
   ]
  },
  {
   "cell_type": "markdown",
   "metadata": {},
   "source": [
    "Data Sources:\n",
    "* https://www.kaggle.com/nghiale5991/covid-19-pre-existing-conditions-analysis\n",
    "* https://www.kaggle.com/mashithaa/beginner-attempt-on-icu-prediction"
   ]
  },
  {
   "cell_type": "markdown",
   "metadata": {},
   "source": [
    "# Data set description : \n",
    "\n",
    "The data set contains 566602 records and 23 columns, the data dictionary is provided as below:\n",
    "\n",
    "1. <b>id</b>: The identification number of the patient.\n",
    "\n",
    "2. <b>sex</b>: Identify gender of the patient, 1 as female and 2 as male.\n",
    "\n",
    "3. <b>patient_type</b>: Type of patient, 1 for not hospitalized and 2 for hosptalized.\n",
    "\n",
    "4. <b>entry_date</b>: The date that the patient went to the hospital.\n",
    "\n",
    "5. <b>date_symptoms</b>: The date that the patient started to show symptoms.\n",
    "\n",
    "6. <b>date_died</b>: The date that the patient died, “9999-99-99” stands for recovered.\n",
    "\n",
    "7. <b>intubed</b>: Intubation is a procedure that’s used when you can’t breathe on your own. Your doctor puts a tube down your throat and into your windpipe to make it easier to get air into and out of your lungs. A machine called a ventilator pumps in air with extra oxygen. Then it helps you breathe out air that’s full of carbon dioxide (CO2). “1” denotes that the patient used ventilator and “2” denotes that the patient did not, “97” “98” “99” means not specified.\n",
    "\n",
    "8. <b>pneumonia</b>: Indicates whether the patient already have air sacs inflammation or not “1” for yes, “2” for no, “97” “98” “99” means not specified .\n",
    "\n",
    "9. <b>age</b>: Specifies the age of the patient.\n",
    "\n",
    "10. <b>pregnancy</b>: Indicates whether the patient is pregnant or not, “1” for yes, “2” for no, “97” “98” “99” means not specified.\n",
    "\n",
    "11. <b>diabetes</b>: Indicates whether the patient has diabetes or not, “1” for yes, “2” for no, “97” “98” “99” means not specified.\n",
    "\n",
    "12. <b>copd</b>: Indicates whether the patient has Chronic obstructive pulmonary disease (COPD) or not, “1” for yes, “2” for no, “97” “98” “99” means not specified .\n",
    "\n",
    "13. <b>asthma</b>: Indiactes whether the patient has asthma or not, “1” for yes, “2” for no, “97” “98” “99” means not specified.\n",
    "\n",
    "14. <b>inmsupr</b>: Indicates whether the patient is immunosuppressed or not, “1” for yes, “2” for no, “97” “98” “99” means not specified.\n",
    "\n",
    "15. <b>hypertension</b>: Indicates whether the patient has hypertension or not, “1” for yes, “2” for no, “97” “98” “99” means not specified.\n",
    "\n",
    "16. <b>other_disease</b>: Indicates whether the patient has other disease or not, “1” for yes, “2” for no, “97” “98” “99” means not specified.\n",
    "\n",
    "17. <b>cardiovascular</b>: Indicates whether if the patient has heart or blood vessels realted disease, “1” for yes, “2” for no, “97” “98” “99” means not specified.\n",
    "\n",
    "17. <b>obesity</b>: Indicates whether the patient is obese or not, “1” for yes, “2” for no, “97” “98” “99” means not specified.\n",
    "\n",
    "18. <b>renal_chronic</b>: Indicates whether the patient has chronic renal disease or not, “1” for yes, “2” for no, “97” “98” “99” means not specified.\n",
    "\n",
    "19. <b>tobacco</b>: Indicates whether if the patient is a tobacco user, “1” for yes, “2” for no, “97” “98” “99” means not specified .\n",
    "\n",
    "20. <b>contact_other_covid</b>: Indicates whether if the patient has contacted another covid19 patient.\n",
    "\n",
    "21. <b>icu</b>: Indicates whether the if the patient had been admitted to an Intensive Care Unit (ICU), “1” for yes, “2” for no, “97” “98” “99” means not specified.\n",
    "\n",
    "# Target column\n",
    "\n",
    "* 22. <b>covid_res</b>: Indicates whether the if the patient tested postive or not, “1” for yes, “2” for no, “3” means not specified/result awaited."
   ]
  },
  {
   "cell_type": "markdown",
   "metadata": {},
   "source": [
    "# Importing Libraries and data"
   ]
  },
  {
   "cell_type": "code",
   "execution_count": 1,
   "metadata": {},
   "outputs": [],
   "source": [
    "import pandas as pd\n",
    "import numpy as np\n",
    "\n",
    "# for Visualization\n",
    "import matplotlib.pyplot as plt\n",
    "import seaborn as sns\n",
    "%matplotlib inline"
   ]
  },
  {
   "cell_type": "code",
   "execution_count": null,
   "metadata": {},
   "outputs": [],
   "source": []
  },
  {
   "cell_type": "code",
   "execution_count": 2,
   "metadata": {},
   "outputs": [],
   "source": [
    "df = pd.read_csv(\"covid.csv\")"
   ]
  },
  {
   "cell_type": "code",
   "execution_count": 3,
   "metadata": {},
   "outputs": [],
   "source": [
    "# for display max columns\n",
    "pd.set_option(\"display.max_columns\",None)"
   ]
  },
  {
   "cell_type": "code",
   "execution_count": 4,
   "metadata": {},
   "outputs": [
    {
     "data": {
      "text/html": [
       "<div>\n",
       "<style scoped>\n",
       "    .dataframe tbody tr th:only-of-type {\n",
       "        vertical-align: middle;\n",
       "    }\n",
       "\n",
       "    .dataframe tbody tr th {\n",
       "        vertical-align: top;\n",
       "    }\n",
       "\n",
       "    .dataframe thead th {\n",
       "        text-align: right;\n",
       "    }\n",
       "</style>\n",
       "<table border=\"1\" class=\"dataframe\">\n",
       "  <thead>\n",
       "    <tr style=\"text-align: right;\">\n",
       "      <th></th>\n",
       "      <th>id</th>\n",
       "      <th>sex</th>\n",
       "      <th>patient_type</th>\n",
       "      <th>entry_date</th>\n",
       "      <th>date_symptoms</th>\n",
       "      <th>date_died</th>\n",
       "      <th>intubed</th>\n",
       "      <th>pneumonia</th>\n",
       "      <th>age</th>\n",
       "      <th>pregnancy</th>\n",
       "      <th>diabetes</th>\n",
       "      <th>copd</th>\n",
       "      <th>asthma</th>\n",
       "      <th>inmsupr</th>\n",
       "      <th>hypertension</th>\n",
       "      <th>other_disease</th>\n",
       "      <th>cardiovascular</th>\n",
       "      <th>obesity</th>\n",
       "      <th>renal_chronic</th>\n",
       "      <th>tobacco</th>\n",
       "      <th>contact_other_covid</th>\n",
       "      <th>covid_res</th>\n",
       "      <th>icu</th>\n",
       "    </tr>\n",
       "  </thead>\n",
       "  <tbody>\n",
       "    <tr>\n",
       "      <th>0</th>\n",
       "      <td>16169f</td>\n",
       "      <td>2</td>\n",
       "      <td>1</td>\n",
       "      <td>04-05-2020</td>\n",
       "      <td>02-05-2020</td>\n",
       "      <td>9999-99-99</td>\n",
       "      <td>97</td>\n",
       "      <td>2</td>\n",
       "      <td>27</td>\n",
       "      <td>97</td>\n",
       "      <td>2</td>\n",
       "      <td>2</td>\n",
       "      <td>2</td>\n",
       "      <td>2</td>\n",
       "      <td>2</td>\n",
       "      <td>2</td>\n",
       "      <td>2</td>\n",
       "      <td>2</td>\n",
       "      <td>2</td>\n",
       "      <td>2</td>\n",
       "      <td>2</td>\n",
       "      <td>1</td>\n",
       "      <td>97</td>\n",
       "    </tr>\n",
       "    <tr>\n",
       "      <th>1</th>\n",
       "      <td>1009bf</td>\n",
       "      <td>2</td>\n",
       "      <td>1</td>\n",
       "      <td>19-03-2020</td>\n",
       "      <td>17-03-2020</td>\n",
       "      <td>9999-99-99</td>\n",
       "      <td>97</td>\n",
       "      <td>2</td>\n",
       "      <td>24</td>\n",
       "      <td>97</td>\n",
       "      <td>2</td>\n",
       "      <td>2</td>\n",
       "      <td>2</td>\n",
       "      <td>2</td>\n",
       "      <td>2</td>\n",
       "      <td>2</td>\n",
       "      <td>2</td>\n",
       "      <td>2</td>\n",
       "      <td>2</td>\n",
       "      <td>2</td>\n",
       "      <td>99</td>\n",
       "      <td>1</td>\n",
       "      <td>97</td>\n",
       "    </tr>\n",
       "    <tr>\n",
       "      <th>2</th>\n",
       "      <td>167386</td>\n",
       "      <td>1</td>\n",
       "      <td>2</td>\n",
       "      <td>06-04-2020</td>\n",
       "      <td>01-04-2020</td>\n",
       "      <td>9999-99-99</td>\n",
       "      <td>2</td>\n",
       "      <td>2</td>\n",
       "      <td>54</td>\n",
       "      <td>2</td>\n",
       "      <td>2</td>\n",
       "      <td>2</td>\n",
       "      <td>2</td>\n",
       "      <td>2</td>\n",
       "      <td>2</td>\n",
       "      <td>2</td>\n",
       "      <td>2</td>\n",
       "      <td>1</td>\n",
       "      <td>2</td>\n",
       "      <td>2</td>\n",
       "      <td>99</td>\n",
       "      <td>1</td>\n",
       "      <td>2</td>\n",
       "    </tr>\n",
       "    <tr>\n",
       "      <th>3</th>\n",
       "      <td>0b5948</td>\n",
       "      <td>2</td>\n",
       "      <td>2</td>\n",
       "      <td>17-04-2020</td>\n",
       "      <td>10-04-2020</td>\n",
       "      <td>9999-99-99</td>\n",
       "      <td>2</td>\n",
       "      <td>1</td>\n",
       "      <td>30</td>\n",
       "      <td>97</td>\n",
       "      <td>2</td>\n",
       "      <td>2</td>\n",
       "      <td>2</td>\n",
       "      <td>2</td>\n",
       "      <td>2</td>\n",
       "      <td>2</td>\n",
       "      <td>2</td>\n",
       "      <td>2</td>\n",
       "      <td>2</td>\n",
       "      <td>2</td>\n",
       "      <td>99</td>\n",
       "      <td>1</td>\n",
       "      <td>2</td>\n",
       "    </tr>\n",
       "    <tr>\n",
       "      <th>4</th>\n",
       "      <td>0d01b5</td>\n",
       "      <td>1</td>\n",
       "      <td>2</td>\n",
       "      <td>13-04-2020</td>\n",
       "      <td>13-04-2020</td>\n",
       "      <td>22-04-2020</td>\n",
       "      <td>2</td>\n",
       "      <td>2</td>\n",
       "      <td>60</td>\n",
       "      <td>2</td>\n",
       "      <td>1</td>\n",
       "      <td>2</td>\n",
       "      <td>2</td>\n",
       "      <td>2</td>\n",
       "      <td>1</td>\n",
       "      <td>2</td>\n",
       "      <td>1</td>\n",
       "      <td>2</td>\n",
       "      <td>2</td>\n",
       "      <td>2</td>\n",
       "      <td>99</td>\n",
       "      <td>1</td>\n",
       "      <td>2</td>\n",
       "    </tr>\n",
       "  </tbody>\n",
       "</table>\n",
       "</div>"
      ],
      "text/plain": [
       "       id  sex  patient_type  entry_date date_symptoms   date_died  intubed  \\\n",
       "0  16169f    2             1  04-05-2020    02-05-2020  9999-99-99       97   \n",
       "1  1009bf    2             1  19-03-2020    17-03-2020  9999-99-99       97   \n",
       "2  167386    1             2  06-04-2020    01-04-2020  9999-99-99        2   \n",
       "3  0b5948    2             2  17-04-2020    10-04-2020  9999-99-99        2   \n",
       "4  0d01b5    1             2  13-04-2020    13-04-2020  22-04-2020        2   \n",
       "\n",
       "   pneumonia  age  pregnancy  diabetes  copd  asthma  inmsupr  hypertension  \\\n",
       "0          2   27         97         2     2       2        2             2   \n",
       "1          2   24         97         2     2       2        2             2   \n",
       "2          2   54          2         2     2       2        2             2   \n",
       "3          1   30         97         2     2       2        2             2   \n",
       "4          2   60          2         1     2       2        2             1   \n",
       "\n",
       "   other_disease  cardiovascular  obesity  renal_chronic  tobacco  \\\n",
       "0              2               2        2              2        2   \n",
       "1              2               2        2              2        2   \n",
       "2              2               2        1              2        2   \n",
       "3              2               2        2              2        2   \n",
       "4              2               1        2              2        2   \n",
       "\n",
       "   contact_other_covid  covid_res  icu  \n",
       "0                    2          1   97  \n",
       "1                   99          1   97  \n",
       "2                   99          1    2  \n",
       "3                   99          1    2  \n",
       "4                   99          1    2  "
      ]
     },
     "execution_count": 4,
     "metadata": {},
     "output_type": "execute_result"
    }
   ],
   "source": [
    "df.head()"
   ]
  },
  {
   "cell_type": "code",
   "execution_count": 5,
   "metadata": {},
   "outputs": [
    {
     "data": {
      "text/html": [
       "<div>\n",
       "<style scoped>\n",
       "    .dataframe tbody tr th:only-of-type {\n",
       "        vertical-align: middle;\n",
       "    }\n",
       "\n",
       "    .dataframe tbody tr th {\n",
       "        vertical-align: top;\n",
       "    }\n",
       "\n",
       "    .dataframe thead th {\n",
       "        text-align: right;\n",
       "    }\n",
       "</style>\n",
       "<table border=\"1\" class=\"dataframe\">\n",
       "  <thead>\n",
       "    <tr style=\"text-align: right;\">\n",
       "      <th></th>\n",
       "      <th>id</th>\n",
       "      <th>sex</th>\n",
       "      <th>patient_type</th>\n",
       "      <th>entry_date</th>\n",
       "      <th>date_symptoms</th>\n",
       "      <th>date_died</th>\n",
       "      <th>intubed</th>\n",
       "      <th>pneumonia</th>\n",
       "      <th>age</th>\n",
       "      <th>pregnancy</th>\n",
       "      <th>diabetes</th>\n",
       "      <th>copd</th>\n",
       "      <th>asthma</th>\n",
       "      <th>inmsupr</th>\n",
       "      <th>hypertension</th>\n",
       "      <th>other_disease</th>\n",
       "      <th>cardiovascular</th>\n",
       "      <th>obesity</th>\n",
       "      <th>renal_chronic</th>\n",
       "      <th>tobacco</th>\n",
       "      <th>contact_other_covid</th>\n",
       "      <th>covid_res</th>\n",
       "      <th>icu</th>\n",
       "    </tr>\n",
       "  </thead>\n",
       "  <tbody>\n",
       "    <tr>\n",
       "      <th>566597</th>\n",
       "      <td>01ff60</td>\n",
       "      <td>2</td>\n",
       "      <td>1</td>\n",
       "      <td>13-05-2020</td>\n",
       "      <td>03-05-2020</td>\n",
       "      <td>9999-99-99</td>\n",
       "      <td>97</td>\n",
       "      <td>2</td>\n",
       "      <td>58</td>\n",
       "      <td>97</td>\n",
       "      <td>1</td>\n",
       "      <td>2</td>\n",
       "      <td>2</td>\n",
       "      <td>2</td>\n",
       "      <td>2</td>\n",
       "      <td>2</td>\n",
       "      <td>2</td>\n",
       "      <td>2</td>\n",
       "      <td>2</td>\n",
       "      <td>2</td>\n",
       "      <td>2</td>\n",
       "      <td>3</td>\n",
       "      <td>97</td>\n",
       "    </tr>\n",
       "    <tr>\n",
       "      <th>566598</th>\n",
       "      <td>047cd1</td>\n",
       "      <td>1</td>\n",
       "      <td>1</td>\n",
       "      <td>07-04-2020</td>\n",
       "      <td>06-04-2020</td>\n",
       "      <td>9999-99-99</td>\n",
       "      <td>97</td>\n",
       "      <td>2</td>\n",
       "      <td>48</td>\n",
       "      <td>2</td>\n",
       "      <td>2</td>\n",
       "      <td>2</td>\n",
       "      <td>2</td>\n",
       "      <td>2</td>\n",
       "      <td>2</td>\n",
       "      <td>2</td>\n",
       "      <td>2</td>\n",
       "      <td>2</td>\n",
       "      <td>2</td>\n",
       "      <td>2</td>\n",
       "      <td>2</td>\n",
       "      <td>3</td>\n",
       "      <td>97</td>\n",
       "    </tr>\n",
       "    <tr>\n",
       "      <th>566599</th>\n",
       "      <td>1beb81</td>\n",
       "      <td>1</td>\n",
       "      <td>2</td>\n",
       "      <td>14-05-2020</td>\n",
       "      <td>01-05-2020</td>\n",
       "      <td>9999-99-99</td>\n",
       "      <td>2</td>\n",
       "      <td>1</td>\n",
       "      <td>49</td>\n",
       "      <td>2</td>\n",
       "      <td>2</td>\n",
       "      <td>2</td>\n",
       "      <td>2</td>\n",
       "      <td>2</td>\n",
       "      <td>2</td>\n",
       "      <td>2</td>\n",
       "      <td>2</td>\n",
       "      <td>1</td>\n",
       "      <td>2</td>\n",
       "      <td>2</td>\n",
       "      <td>99</td>\n",
       "      <td>3</td>\n",
       "      <td>2</td>\n",
       "    </tr>\n",
       "    <tr>\n",
       "      <th>566600</th>\n",
       "      <td>16fb02</td>\n",
       "      <td>1</td>\n",
       "      <td>1</td>\n",
       "      <td>31-05-2020</td>\n",
       "      <td>29-05-2020</td>\n",
       "      <td>9999-99-99</td>\n",
       "      <td>97</td>\n",
       "      <td>1</td>\n",
       "      <td>43</td>\n",
       "      <td>2</td>\n",
       "      <td>2</td>\n",
       "      <td>2</td>\n",
       "      <td>2</td>\n",
       "      <td>2</td>\n",
       "      <td>2</td>\n",
       "      <td>2</td>\n",
       "      <td>2</td>\n",
       "      <td>2</td>\n",
       "      <td>2</td>\n",
       "      <td>2</td>\n",
       "      <td>2</td>\n",
       "      <td>3</td>\n",
       "      <td>97</td>\n",
       "    </tr>\n",
       "    <tr>\n",
       "      <th>566601</th>\n",
       "      <td>0021c9</td>\n",
       "      <td>2</td>\n",
       "      <td>1</td>\n",
       "      <td>16-05-2020</td>\n",
       "      <td>16-05-2020</td>\n",
       "      <td>9999-99-99</td>\n",
       "      <td>97</td>\n",
       "      <td>1</td>\n",
       "      <td>65</td>\n",
       "      <td>97</td>\n",
       "      <td>1</td>\n",
       "      <td>2</td>\n",
       "      <td>2</td>\n",
       "      <td>2</td>\n",
       "      <td>1</td>\n",
       "      <td>2</td>\n",
       "      <td>2</td>\n",
       "      <td>1</td>\n",
       "      <td>2</td>\n",
       "      <td>2</td>\n",
       "      <td>2</td>\n",
       "      <td>3</td>\n",
       "      <td>97</td>\n",
       "    </tr>\n",
       "  </tbody>\n",
       "</table>\n",
       "</div>"
      ],
      "text/plain": [
       "            id  sex  patient_type  entry_date date_symptoms   date_died  \\\n",
       "566597  01ff60    2             1  13-05-2020    03-05-2020  9999-99-99   \n",
       "566598  047cd1    1             1  07-04-2020    06-04-2020  9999-99-99   \n",
       "566599  1beb81    1             2  14-05-2020    01-05-2020  9999-99-99   \n",
       "566600  16fb02    1             1  31-05-2020    29-05-2020  9999-99-99   \n",
       "566601  0021c9    2             1  16-05-2020    16-05-2020  9999-99-99   \n",
       "\n",
       "        intubed  pneumonia  age  pregnancy  diabetes  copd  asthma  inmsupr  \\\n",
       "566597       97          2   58         97         1     2       2        2   \n",
       "566598       97          2   48          2         2     2       2        2   \n",
       "566599        2          1   49          2         2     2       2        2   \n",
       "566600       97          1   43          2         2     2       2        2   \n",
       "566601       97          1   65         97         1     2       2        2   \n",
       "\n",
       "        hypertension  other_disease  cardiovascular  obesity  renal_chronic  \\\n",
       "566597             2              2               2        2              2   \n",
       "566598             2              2               2        2              2   \n",
       "566599             2              2               2        1              2   \n",
       "566600             2              2               2        2              2   \n",
       "566601             1              2               2        1              2   \n",
       "\n",
       "        tobacco  contact_other_covid  covid_res  icu  \n",
       "566597        2                    2          3   97  \n",
       "566598        2                    2          3   97  \n",
       "566599        2                   99          3    2  \n",
       "566600        2                    2          3   97  \n",
       "566601        2                    2          3   97  "
      ]
     },
     "execution_count": 5,
     "metadata": {},
     "output_type": "execute_result"
    }
   ],
   "source": [
    "df.tail()"
   ]
  },
  {
   "cell_type": "code",
   "execution_count": 6,
   "metadata": {},
   "outputs": [
    {
     "name": "stdout",
     "output_type": "stream",
     "text": [
      "<class 'pandas.core.frame.DataFrame'>\n",
      "RangeIndex: 566602 entries, 0 to 566601\n",
      "Data columns (total 23 columns):\n",
      " #   Column               Non-Null Count   Dtype \n",
      "---  ------               --------------   ----- \n",
      " 0   id                   566602 non-null  object\n",
      " 1   sex                  566602 non-null  int64 \n",
      " 2   patient_type         566602 non-null  int64 \n",
      " 3   entry_date           566602 non-null  object\n",
      " 4   date_symptoms        566602 non-null  object\n",
      " 5   date_died            566602 non-null  object\n",
      " 6   intubed              566602 non-null  int64 \n",
      " 7   pneumonia            566602 non-null  int64 \n",
      " 8   age                  566602 non-null  int64 \n",
      " 9   pregnancy            566602 non-null  int64 \n",
      " 10  diabetes             566602 non-null  int64 \n",
      " 11  copd                 566602 non-null  int64 \n",
      " 12  asthma               566602 non-null  int64 \n",
      " 13  inmsupr              566602 non-null  int64 \n",
      " 14  hypertension         566602 non-null  int64 \n",
      " 15  other_disease        566602 non-null  int64 \n",
      " 16  cardiovascular       566602 non-null  int64 \n",
      " 17  obesity              566602 non-null  int64 \n",
      " 18  renal_chronic        566602 non-null  int64 \n",
      " 19  tobacco              566602 non-null  int64 \n",
      " 20  contact_other_covid  566602 non-null  int64 \n",
      " 21  covid_res            566602 non-null  int64 \n",
      " 22  icu                  566602 non-null  int64 \n",
      "dtypes: int64(19), object(4)\n",
      "memory usage: 99.4+ MB\n"
     ]
    }
   ],
   "source": [
    "df.info()"
   ]
  },
  {
   "cell_type": "code",
   "execution_count": 7,
   "metadata": {},
   "outputs": [
    {
     "data": {
      "text/html": [
       "<div>\n",
       "<style scoped>\n",
       "    .dataframe tbody tr th:only-of-type {\n",
       "        vertical-align: middle;\n",
       "    }\n",
       "\n",
       "    .dataframe tbody tr th {\n",
       "        vertical-align: top;\n",
       "    }\n",
       "\n",
       "    .dataframe thead th {\n",
       "        text-align: right;\n",
       "    }\n",
       "</style>\n",
       "<table border=\"1\" class=\"dataframe\">\n",
       "  <thead>\n",
       "    <tr style=\"text-align: right;\">\n",
       "      <th></th>\n",
       "      <th>sex</th>\n",
       "      <th>patient_type</th>\n",
       "      <th>intubed</th>\n",
       "      <th>pneumonia</th>\n",
       "      <th>age</th>\n",
       "      <th>pregnancy</th>\n",
       "      <th>diabetes</th>\n",
       "      <th>copd</th>\n",
       "      <th>asthma</th>\n",
       "      <th>inmsupr</th>\n",
       "      <th>hypertension</th>\n",
       "      <th>other_disease</th>\n",
       "      <th>cardiovascular</th>\n",
       "      <th>obesity</th>\n",
       "      <th>renal_chronic</th>\n",
       "      <th>tobacco</th>\n",
       "      <th>contact_other_covid</th>\n",
       "      <th>covid_res</th>\n",
       "      <th>icu</th>\n",
       "    </tr>\n",
       "  </thead>\n",
       "  <tbody>\n",
       "    <tr>\n",
       "      <th>count</th>\n",
       "      <td>566602.000000</td>\n",
       "      <td>566602.000000</td>\n",
       "      <td>566602.000000</td>\n",
       "      <td>566602.000000</td>\n",
       "      <td>566602.000000</td>\n",
       "      <td>566602.000000</td>\n",
       "      <td>566602.000000</td>\n",
       "      <td>566602.000000</td>\n",
       "      <td>566602.000000</td>\n",
       "      <td>566602.000000</td>\n",
       "      <td>566602.000000</td>\n",
       "      <td>566602.000000</td>\n",
       "      <td>566602.000000</td>\n",
       "      <td>566602.000000</td>\n",
       "      <td>566602.000000</td>\n",
       "      <td>566602.000000</td>\n",
       "      <td>566602.000000</td>\n",
       "      <td>566602.000000</td>\n",
       "      <td>566602.000000</td>\n",
       "    </tr>\n",
       "    <tr>\n",
       "      <th>mean</th>\n",
       "      <td>1.506726</td>\n",
       "      <td>1.215165</td>\n",
       "      <td>76.562952</td>\n",
       "      <td>1.846262</td>\n",
       "      <td>42.622483</td>\n",
       "      <td>50.400692</td>\n",
       "      <td>2.210633</td>\n",
       "      <td>2.280221</td>\n",
       "      <td>2.265029</td>\n",
       "      <td>2.319628</td>\n",
       "      <td>2.145774</td>\n",
       "      <td>2.410030</td>\n",
       "      <td>2.286157</td>\n",
       "      <td>2.138905</td>\n",
       "      <td>2.283765</td>\n",
       "      <td>2.238360</td>\n",
       "      <td>31.573034</td>\n",
       "      <td>1.728651</td>\n",
       "      <td>76.562864</td>\n",
       "    </tr>\n",
       "    <tr>\n",
       "      <th>std</th>\n",
       "      <td>0.499955</td>\n",
       "      <td>0.410937</td>\n",
       "      <td>39.058676</td>\n",
       "      <td>0.560939</td>\n",
       "      <td>16.659973</td>\n",
       "      <td>47.501579</td>\n",
       "      <td>5.683523</td>\n",
       "      <td>5.327832</td>\n",
       "      <td>5.334658</td>\n",
       "      <td>5.667381</td>\n",
       "      <td>5.459866</td>\n",
       "      <td>6.489959</td>\n",
       "      <td>5.438405</td>\n",
       "      <td>5.395578</td>\n",
       "      <td>5.393232</td>\n",
       "      <td>5.571901</td>\n",
       "      <td>45.082123</td>\n",
       "      <td>0.658710</td>\n",
       "      <td>39.059060</td>\n",
       "    </tr>\n",
       "    <tr>\n",
       "      <th>min</th>\n",
       "      <td>1.000000</td>\n",
       "      <td>1.000000</td>\n",
       "      <td>1.000000</td>\n",
       "      <td>1.000000</td>\n",
       "      <td>0.000000</td>\n",
       "      <td>1.000000</td>\n",
       "      <td>1.000000</td>\n",
       "      <td>1.000000</td>\n",
       "      <td>1.000000</td>\n",
       "      <td>1.000000</td>\n",
       "      <td>1.000000</td>\n",
       "      <td>1.000000</td>\n",
       "      <td>1.000000</td>\n",
       "      <td>1.000000</td>\n",
       "      <td>1.000000</td>\n",
       "      <td>1.000000</td>\n",
       "      <td>1.000000</td>\n",
       "      <td>1.000000</td>\n",
       "      <td>1.000000</td>\n",
       "    </tr>\n",
       "    <tr>\n",
       "      <th>25%</th>\n",
       "      <td>1.000000</td>\n",
       "      <td>1.000000</td>\n",
       "      <td>97.000000</td>\n",
       "      <td>2.000000</td>\n",
       "      <td>31.000000</td>\n",
       "      <td>2.000000</td>\n",
       "      <td>2.000000</td>\n",
       "      <td>2.000000</td>\n",
       "      <td>2.000000</td>\n",
       "      <td>2.000000</td>\n",
       "      <td>2.000000</td>\n",
       "      <td>2.000000</td>\n",
       "      <td>2.000000</td>\n",
       "      <td>2.000000</td>\n",
       "      <td>2.000000</td>\n",
       "      <td>2.000000</td>\n",
       "      <td>1.000000</td>\n",
       "      <td>1.000000</td>\n",
       "      <td>97.000000</td>\n",
       "    </tr>\n",
       "    <tr>\n",
       "      <th>50%</th>\n",
       "      <td>2.000000</td>\n",
       "      <td>1.000000</td>\n",
       "      <td>97.000000</td>\n",
       "      <td>2.000000</td>\n",
       "      <td>41.000000</td>\n",
       "      <td>97.000000</td>\n",
       "      <td>2.000000</td>\n",
       "      <td>2.000000</td>\n",
       "      <td>2.000000</td>\n",
       "      <td>2.000000</td>\n",
       "      <td>2.000000</td>\n",
       "      <td>2.000000</td>\n",
       "      <td>2.000000</td>\n",
       "      <td>2.000000</td>\n",
       "      <td>2.000000</td>\n",
       "      <td>2.000000</td>\n",
       "      <td>2.000000</td>\n",
       "      <td>2.000000</td>\n",
       "      <td>97.000000</td>\n",
       "    </tr>\n",
       "    <tr>\n",
       "      <th>75%</th>\n",
       "      <td>2.000000</td>\n",
       "      <td>1.000000</td>\n",
       "      <td>97.000000</td>\n",
       "      <td>2.000000</td>\n",
       "      <td>53.000000</td>\n",
       "      <td>97.000000</td>\n",
       "      <td>2.000000</td>\n",
       "      <td>2.000000</td>\n",
       "      <td>2.000000</td>\n",
       "      <td>2.000000</td>\n",
       "      <td>2.000000</td>\n",
       "      <td>2.000000</td>\n",
       "      <td>2.000000</td>\n",
       "      <td>2.000000</td>\n",
       "      <td>2.000000</td>\n",
       "      <td>2.000000</td>\n",
       "      <td>99.000000</td>\n",
       "      <td>2.000000</td>\n",
       "      <td>97.000000</td>\n",
       "    </tr>\n",
       "    <tr>\n",
       "      <th>max</th>\n",
       "      <td>2.000000</td>\n",
       "      <td>2.000000</td>\n",
       "      <td>99.000000</td>\n",
       "      <td>99.000000</td>\n",
       "      <td>120.000000</td>\n",
       "      <td>98.000000</td>\n",
       "      <td>98.000000</td>\n",
       "      <td>98.000000</td>\n",
       "      <td>98.000000</td>\n",
       "      <td>98.000000</td>\n",
       "      <td>98.000000</td>\n",
       "      <td>98.000000</td>\n",
       "      <td>98.000000</td>\n",
       "      <td>98.000000</td>\n",
       "      <td>98.000000</td>\n",
       "      <td>98.000000</td>\n",
       "      <td>99.000000</td>\n",
       "      <td>3.000000</td>\n",
       "      <td>99.000000</td>\n",
       "    </tr>\n",
       "  </tbody>\n",
       "</table>\n",
       "</div>"
      ],
      "text/plain": [
       "                 sex   patient_type        intubed      pneumonia  \\\n",
       "count  566602.000000  566602.000000  566602.000000  566602.000000   \n",
       "mean        1.506726       1.215165      76.562952       1.846262   \n",
       "std         0.499955       0.410937      39.058676       0.560939   \n",
       "min         1.000000       1.000000       1.000000       1.000000   \n",
       "25%         1.000000       1.000000      97.000000       2.000000   \n",
       "50%         2.000000       1.000000      97.000000       2.000000   \n",
       "75%         2.000000       1.000000      97.000000       2.000000   \n",
       "max         2.000000       2.000000      99.000000      99.000000   \n",
       "\n",
       "                 age      pregnancy       diabetes           copd  \\\n",
       "count  566602.000000  566602.000000  566602.000000  566602.000000   \n",
       "mean       42.622483      50.400692       2.210633       2.280221   \n",
       "std        16.659973      47.501579       5.683523       5.327832   \n",
       "min         0.000000       1.000000       1.000000       1.000000   \n",
       "25%        31.000000       2.000000       2.000000       2.000000   \n",
       "50%        41.000000      97.000000       2.000000       2.000000   \n",
       "75%        53.000000      97.000000       2.000000       2.000000   \n",
       "max       120.000000      98.000000      98.000000      98.000000   \n",
       "\n",
       "              asthma        inmsupr   hypertension  other_disease  \\\n",
       "count  566602.000000  566602.000000  566602.000000  566602.000000   \n",
       "mean        2.265029       2.319628       2.145774       2.410030   \n",
       "std         5.334658       5.667381       5.459866       6.489959   \n",
       "min         1.000000       1.000000       1.000000       1.000000   \n",
       "25%         2.000000       2.000000       2.000000       2.000000   \n",
       "50%         2.000000       2.000000       2.000000       2.000000   \n",
       "75%         2.000000       2.000000       2.000000       2.000000   \n",
       "max        98.000000      98.000000      98.000000      98.000000   \n",
       "\n",
       "       cardiovascular        obesity  renal_chronic        tobacco  \\\n",
       "count   566602.000000  566602.000000  566602.000000  566602.000000   \n",
       "mean         2.286157       2.138905       2.283765       2.238360   \n",
       "std          5.438405       5.395578       5.393232       5.571901   \n",
       "min          1.000000       1.000000       1.000000       1.000000   \n",
       "25%          2.000000       2.000000       2.000000       2.000000   \n",
       "50%          2.000000       2.000000       2.000000       2.000000   \n",
       "75%          2.000000       2.000000       2.000000       2.000000   \n",
       "max         98.000000      98.000000      98.000000      98.000000   \n",
       "\n",
       "       contact_other_covid      covid_res            icu  \n",
       "count        566602.000000  566602.000000  566602.000000  \n",
       "mean             31.573034       1.728651      76.562864  \n",
       "std              45.082123       0.658710      39.059060  \n",
       "min               1.000000       1.000000       1.000000  \n",
       "25%               1.000000       1.000000      97.000000  \n",
       "50%               2.000000       2.000000      97.000000  \n",
       "75%              99.000000       2.000000      97.000000  \n",
       "max              99.000000       3.000000      99.000000  "
      ]
     },
     "execution_count": 7,
     "metadata": {},
     "output_type": "execute_result"
    }
   ],
   "source": [
    "df.describe()"
   ]
  },
  {
   "cell_type": "code",
   "execution_count": 8,
   "metadata": {},
   "outputs": [
    {
     "data": {
      "text/plain": [
       "Index(['id', 'sex', 'patient_type', 'entry_date', 'date_symptoms', 'date_died',\n",
       "       'intubed', 'pneumonia', 'age', 'pregnancy', 'diabetes', 'copd',\n",
       "       'asthma', 'inmsupr', 'hypertension', 'other_disease', 'cardiovascular',\n",
       "       'obesity', 'renal_chronic', 'tobacco', 'contact_other_covid',\n",
       "       'covid_res', 'icu'],\n",
       "      dtype='object')"
      ]
     },
     "execution_count": 8,
     "metadata": {},
     "output_type": "execute_result"
    }
   ],
   "source": [
    "df.columns"
   ]
  },
  {
   "cell_type": "code",
   "execution_count": 9,
   "metadata": {},
   "outputs": [],
   "source": [
    "df.rename(columns={\"covid_res\":\"covid_result\"},inplace=True)"
   ]
  },
  {
   "cell_type": "code",
   "execution_count": null,
   "metadata": {},
   "outputs": [],
   "source": []
  },
  {
   "cell_type": "code",
   "execution_count": 10,
   "metadata": {},
   "outputs": [
    {
     "data": {
      "text/plain": [
       "id                     0\n",
       "sex                    0\n",
       "patient_type           0\n",
       "entry_date             0\n",
       "date_symptoms          0\n",
       "date_died              0\n",
       "intubed                0\n",
       "pneumonia              0\n",
       "age                    0\n",
       "pregnancy              0\n",
       "diabetes               0\n",
       "copd                   0\n",
       "asthma                 0\n",
       "inmsupr                0\n",
       "hypertension           0\n",
       "other_disease          0\n",
       "cardiovascular         0\n",
       "obesity                0\n",
       "renal_chronic          0\n",
       "tobacco                0\n",
       "contact_other_covid    0\n",
       "covid_result           0\n",
       "icu                    0\n",
       "dtype: int64"
      ]
     },
     "execution_count": 10,
     "metadata": {},
     "output_type": "execute_result"
    }
   ],
   "source": [
    "df.isna().sum()"
   ]
  },
  {
   "cell_type": "code",
   "execution_count": null,
   "metadata": {},
   "outputs": [],
   "source": []
  },
  {
   "cell_type": "markdown",
   "metadata": {},
   "source": [
    "# Data Cleaning and visualization"
   ]
  },
  {
   "cell_type": "code",
   "execution_count": 11,
   "metadata": {},
   "outputs": [
    {
     "data": {
      "text/plain": [
       "2    279035\n",
       "1    220657\n",
       "3     66910\n",
       "Name: covid_result, dtype: int64"
      ]
     },
     "execution_count": 11,
     "metadata": {},
     "output_type": "execute_result"
    }
   ],
   "source": [
    "# TArget column\n",
    "\n",
    "df[\"covid_result\"].value_counts()"
   ]
  },
  {
   "cell_type": "code",
   "execution_count": 12,
   "metadata": {},
   "outputs": [],
   "source": [
    "df[\"covid_result\"] = df[\"covid_result\"].map({1:\"Positive\",2:\"Negative\",3:\"Awaited\"})"
   ]
  },
  {
   "cell_type": "code",
   "execution_count": 13,
   "metadata": {},
   "outputs": [
    {
     "data": {
      "text/plain": [
       "Text(0.5, 1.0, 'Count of Covid19 Patient')"
      ]
     },
     "execution_count": 13,
     "metadata": {},
     "output_type": "execute_result"
    },
    {
     "data": {
      "image/png": "[encoded data removed]",
      "text/plain": [
       "<Figure size 432x288 with 1 Axes>"
      ]
     },
     "metadata": {},
     "output_type": "display_data"
    }
   ],
   "source": [
    "sns.countplot(x=\"covid_result\",data=df).set_title('Count of Covid19 Patient')"
   ]
  },
  {
   "cell_type": "code",
   "execution_count": 14,
   "metadata": {},
   "outputs": [
    {
     "data": {
      "text/plain": [
       "<AxesSubplot:title={'center':'Pie chart for covid_result'}, ylabel='covid_result'>"
      ]
     },
     "execution_count": 14,
     "metadata": {},
     "output_type": "execute_result"
    },
    {
     "data": {
      "image/png": "[encoded data removed]",
      "text/plain": [
       "<Figure size 504x360 with 1 Axes>"
      ]
     },
     "metadata": {},
     "output_type": "display_data"
    }
   ],
   "source": [
    "label = df[\"covid_result\"].values\n",
    "fig=plt.figure(figsize=(7,5))\n",
    "df[\"covid_result\"].value_counts().plot.pie(explode=[0,0.10,0.10],autopct=\"%1.2f%%\",shadow=True,labels=label,fontsize=12,startangle=180,title='Pie chart for covid_result')\n",
    "# plt.savefig(\"bad_loan_pie_chart\")"
   ]
  },
  {
   "cell_type": "markdown",
   "metadata": {},
   "source": [
    "* Above figure shows 49.25% positive patients, 38.94% negative patients,11.81% awaited patients"
   ]
  },
  {
   "cell_type": "code",
   "execution_count": 15,
   "metadata": {},
   "outputs": [
    {
     "name": "stdout",
     "output_type": "stream",
     "text": [
      "2    287112\n",
      "1    279490\n",
      "Name: sex, dtype: int64\n"
     ]
    },
    {
     "data": {
      "text/plain": [
       "Text(0.5, 1.0, 'covid result of female and male patient')"
      ]
     },
     "execution_count": 15,
     "metadata": {},
     "output_type": "execute_result"
    },
    {
     "data": {
      "image/png": "[encoded data removed]",
      "text/plain": [
       "<Figure size 432x288 with 1 Axes>"
      ]
     },
     "metadata": {},
     "output_type": "display_data"
    }
   ],
   "source": [
    "print(df[\"sex\"].value_counts())\n",
    "\n",
    "# 1 as female , 2 as a male\n",
    "sns.countplot(x=\"sex\",data=df,hue=\"covid_result\").set_title('covid result of female and male patient')"
   ]
  },
  {
   "cell_type": "code",
   "execution_count": 16,
   "metadata": {},
   "outputs": [
    {
     "name": "stdout",
     "output_type": "stream",
     "text": [
      "1    444689\n",
      "2    121913\n",
      "Name: patient_type, dtype: int64\n"
     ]
    },
    {
     "data": {
      "text/plain": [
       "Text(0.5, 1.0, 'covid result of patient_type patient')"
      ]
     },
     "execution_count": 16,
     "metadata": {},
     "output_type": "execute_result"
    },
    {
     "data": {
      "image/png": "[encoded data removed]",
      "text/plain": [
       "<Figure size 432x288 with 1 Axes>"
      ]
     },
     "metadata": {},
     "output_type": "display_data"
    }
   ],
   "source": [
    "print(df[\"patient_type\"].value_counts())\n",
    "\n",
    "# 1 for not hospitalized , 2 for hospitalized\n",
    "sns.countplot(x=\"patient_type\",data=df,hue=\"covid_result\").set_title('covid result of patient_type patient')"
   ]
  },
  {
   "cell_type": "code",
   "execution_count": 17,
   "metadata": {},
   "outputs": [
    {
     "data": {
      "text/plain": [
       "97    444689\n",
       "2     111824\n",
       "1       9965\n",
       "99       124\n",
       "Name: intubed, dtype: int64"
      ]
     },
     "execution_count": 17,
     "metadata": {},
     "output_type": "execute_result"
    }
   ],
   "source": [
    "df[\"intubed\"].value_counts()"
   ]
  },
  {
   "cell_type": "code",
   "execution_count": 18,
   "metadata": {},
   "outputs": [
    {
     "data": {
      "text/plain": [
       "Text(0.5, 1.0, 'covid result of intubed patient')"
      ]
     },
     "execution_count": 18,
     "metadata": {},
     "output_type": "execute_result"
    },
    {
     "data": {
      "image/png": "[encoded data removed]",
      "text/plain": [
       "<Figure size 432x288 with 1 Axes>"
      ]
     },
     "metadata": {},
     "output_type": "display_data"
    }
   ],
   "source": [
    "df[\"intubed\"] = df[\"intubed\"].map({1:1,2:2,97:3,99:3})\n",
    "\n",
    "# 1 for not intubed(ventilator)  , 2 for not intubed\n",
    "sns.countplot(x=\"intubed\",data=df,hue=\"covid_result\").set_title('covid result of intubed patient')"
   ]
  },
  {
   "cell_type": "code",
   "execution_count": 19,
   "metadata": {},
   "outputs": [
    {
     "data": {
      "text/plain": [
       "2     478416\n",
       "1      88175\n",
       "99        11\n",
       "Name: pneumonia, dtype: int64"
      ]
     },
     "execution_count": 19,
     "metadata": {},
     "output_type": "execute_result"
    }
   ],
   "source": [
    "df[\"pneumonia\"].value_counts()"
   ]
  },
  {
   "cell_type": "code",
   "execution_count": 20,
   "metadata": {},
   "outputs": [
    {
     "data": {
      "text/plain": [
       "Text(0.5, 1.0, 'covid result of pneumonia patient')"
      ]
     },
     "execution_count": 20,
     "metadata": {},
     "output_type": "execute_result"
    },
    {
     "data": {
      "image/png": "[encoded data removed]",
      "text/plain": [
       "<Figure size 432x288 with 1 Axes>"
      ]
     },
     "metadata": {},
     "output_type": "display_data"
    }
   ],
   "source": [
    "df[\"pneumonia\"] = df[\"pneumonia\"].map({1:1,2:2,99:3})\n",
    "\n",
    "# 1 for not intubed(ventilator)  , 2 for not intubed\n",
    "sns.countplot(x=\"pneumonia\",data=df,hue=\"covid_result\").set_title('covid result of pneumonia patient')"
   ]
  },
  {
   "cell_type": "code",
   "execution_count": 21,
   "metadata": {},
   "outputs": [
    {
     "data": {
      "text/plain": [
       "Text(0.5, 1.0, 'Agewise Covid_result')"
      ]
     },
     "execution_count": 21,
     "metadata": {},
     "output_type": "execute_result"
    },
    {
     "data": {
      "image/png": "[encoded data removed]",
      "text/plain": [
       "<Figure size 2160x360 with 1 Axes>"
      ]
     },
     "metadata": {},
     "output_type": "display_data"
    }
   ],
   "source": [
    "# df[\"age\"].value_counts\n",
    "plt.figure(figsize=(30,5))\n",
    "plt.xticks(rotation=60)\n",
    "plt.xticks(fontsize=10)\n",
    "sns.countplot(x=\"age\",data=df,hue=\"covid_result\").set_title(\"Agewise Covid_result\",fontsize=30)"
   ]
  },
  {
   "cell_type": "code",
   "execution_count": 22,
   "metadata": {},
   "outputs": [
    {
     "data": {
      "text/plain": [
       "97    287112\n",
       "2     273840\n",
       "1       4063\n",
       "98      1587\n",
       "Name: pregnancy, dtype: int64"
      ]
     },
     "execution_count": 22,
     "metadata": {},
     "output_type": "execute_result"
    }
   ],
   "source": [
    "df[\"pregnancy\"].value_counts()"
   ]
  },
  {
   "cell_type": "code",
   "execution_count": 23,
   "metadata": {},
   "outputs": [
    {
     "data": {
      "text/plain": [
       "Text(0.5, 1.0, 'covid result of pregnant patient')"
      ]
     },
     "execution_count": 23,
     "metadata": {},
     "output_type": "execute_result"
    },
    {
     "data": {
      "image/png": "[encoded data removed]",
      "text/plain": [
       "<Figure size 432x288 with 1 Axes>"
      ]
     },
     "metadata": {},
     "output_type": "display_data"
    }
   ],
   "source": [
    "df[\"pregnancy\"] = df[\"pregnancy\"].map({1:1,2:2,97:3,98:3})\n",
    "\n",
    "# 1 for not intubed(ventilator)  , 2 for not intubed\n",
    "sns.countplot(x=\"pregnancy\",data=df,hue=\"covid_result\").set_title('covid result of pregnant patient')"
   ]
  },
  {
   "cell_type": "code",
   "execution_count": 24,
   "metadata": {},
   "outputs": [
    {
     "data": {
      "text/plain": [
       "2     493790\n",
       "1      70831\n",
       "98      1981\n",
       "Name: diabetes, dtype: int64"
      ]
     },
     "execution_count": 24,
     "metadata": {},
     "output_type": "execute_result"
    }
   ],
   "source": [
    "df[\"diabetes\"].value_counts()"
   ]
  },
  {
   "cell_type": "code",
   "execution_count": 25,
   "metadata": {},
   "outputs": [
    {
     "data": {
      "text/plain": [
       "Text(0.5, 1.0, 'covid result of diabetic patient')"
      ]
     },
     "execution_count": 25,
     "metadata": {},
     "output_type": "execute_result"
    },
    {
     "data": {
      "image/png": "[encoded data removed]",
      "text/plain": [
       "<Figure size 432x288 with 1 Axes>"
      ]
     },
     "metadata": {},
     "output_type": "display_data"
    }
   ],
   "source": [
    "df[\"diabetes\"] = df[\"diabetes\"].map({1:1,2:2,98:3})\n",
    "sns.countplot(x=\"diabetes\",data=df,hue=\"covid_result\").set_title('covid result of diabetic patient')"
   ]
  },
  {
   "cell_type": "code",
   "execution_count": 26,
   "metadata": {},
   "outputs": [
    {
     "data": {
      "text/plain": [
       "2     555723\n",
       "1       9130\n",
       "98      1749\n",
       "Name: copd, dtype: int64"
      ]
     },
     "execution_count": 26,
     "metadata": {},
     "output_type": "execute_result"
    }
   ],
   "source": [
    "df[\"copd\"].value_counts()"
   ]
  },
  {
   "cell_type": "code",
   "execution_count": 27,
   "metadata": {},
   "outputs": [
    {
     "data": {
      "text/plain": [
       "Text(0.5, 1.0, 'covid result of copd ( Chronic obstructive pulmonary disease ) patient')"
      ]
     },
     "execution_count": 27,
     "metadata": {},
     "output_type": "execute_result"
    },
    {
     "data": {
      "image/png": "[encoded data removed]",
      "text/plain": [
       "<Figure size 432x288 with 1 Axes>"
      ]
     },
     "metadata": {},
     "output_type": "display_data"
    }
   ],
   "source": [
    "df[\"copd\"] = df[\"copd\"].map({1:1,2:2,98:3})\n",
    "sns.countplot(x=\"copd\",data=df,hue=\"covid_result\").set_title('covid result of copd ( Chronic obstructive pulmonary disease ) patient')"
   ]
  },
  {
   "cell_type": "code",
   "execution_count": 28,
   "metadata": {},
   "outputs": [
    {
     "data": {
      "text/plain": [
       "2     546824\n",
       "1      18026\n",
       "98      1752\n",
       "Name: asthma, dtype: int64"
      ]
     },
     "execution_count": 28,
     "metadata": {},
     "output_type": "execute_result"
    }
   ],
   "source": [
    "df[\"asthma\"].value_counts()"
   ]
  },
  {
   "cell_type": "code",
   "execution_count": 29,
   "metadata": {},
   "outputs": [
    {
     "data": {
      "text/plain": [
       "Text(0.5, 1.0, 'covid result of asthma patient')"
      ]
     },
     "execution_count": 29,
     "metadata": {},
     "output_type": "execute_result"
    },
    {
     "data": {
      "image/png": "[encoded data removed]",
      "text/plain": [
       "<Figure size 432x288 with 1 Axes>"
      ]
     },
     "metadata": {},
     "output_type": "display_data"
    }
   ],
   "source": [
    "df[\"asthma\"] = df[\"asthma\"].map({1:1,2:2,98:3})\n",
    "sns.countplot(x=\"asthma\",data=df,hue=\"covid_result\").set_title('covid result of asthma patient')"
   ]
  },
  {
   "cell_type": "code",
   "execution_count": 30,
   "metadata": {},
   "outputs": [
    {
     "data": {
      "text/plain": [
       "2     555644\n",
       "1       8978\n",
       "98      1980\n",
       "Name: inmsupr, dtype: int64"
      ]
     },
     "execution_count": 30,
     "metadata": {},
     "output_type": "execute_result"
    }
   ],
   "source": [
    "df[\"inmsupr\"].value_counts()"
   ]
  },
  {
   "cell_type": "code",
   "execution_count": 31,
   "metadata": {},
   "outputs": [
    {
     "data": {
      "text/plain": [
       "Text(0.5, 1.0, 'covid result of inmsupr ( immunosuppressed ) patient')"
      ]
     },
     "execution_count": 31,
     "metadata": {},
     "output_type": "execute_result"
    },
    {
     "data": {
      "image/png": "[encoded data removed]",
      "text/plain": [
       "<Figure size 432x288 with 1 Axes>"
      ]
     },
     "metadata": {},
     "output_type": "display_data"
    }
   ],
   "source": [
    "df[\"inmsupr\"] = df[\"inmsupr\"].map({1:1,2:2,98:3})\n",
    "sns.countplot(x=\"inmsupr\",data=df,hue=\"covid_result\").set_title('covid result of inmsupr ( immunosuppressed ) patient')"
   ]
  },
  {
   "cell_type": "code",
   "execution_count": 32,
   "metadata": {},
   "outputs": [
    {
     "data": {
      "text/plain": [
       "2     472270\n",
       "1      92508\n",
       "98      1824\n",
       "Name: hypertension, dtype: int64"
      ]
     },
     "execution_count": 32,
     "metadata": {},
     "output_type": "execute_result"
    }
   ],
   "source": [
    "df[\"hypertension\"].value_counts()"
   ]
  },
  {
   "cell_type": "code",
   "execution_count": 33,
   "metadata": {},
   "outputs": [
    {
     "data": {
      "text/plain": [
       "Text(0.5, 1.0, 'covid result of hypertension patient')"
      ]
     },
     "execution_count": 33,
     "metadata": {},
     "output_type": "execute_result"
    },
    {
     "data": {
      "image/png": "[encoded data removed]",
      "text/plain": [
       "<Figure size 432x288 with 1 Axes>"
      ]
     },
     "metadata": {},
     "output_type": "display_data"
    }
   ],
   "source": [
    "df[\"hypertension\"] = df[\"hypertension\"].map({1:1,2:2,98:3})\n",
    "sns.countplot(x=\"hypertension\",data=df,hue=\"covid_result\").set_title('covid result of hypertension patient')"
   ]
  },
  {
   "cell_type": "code",
   "execution_count": 34,
   "metadata": {},
   "outputs": [
    {
     "data": {
      "text/plain": [
       "2     546920\n",
       "1      17084\n",
       "98      2598\n",
       "Name: other_disease, dtype: int64"
      ]
     },
     "execution_count": 34,
     "metadata": {},
     "output_type": "execute_result"
    }
   ],
   "source": [
    "df[\"other_disease\"].value_counts()"
   ]
  },
  {
   "cell_type": "code",
   "execution_count": 35,
   "metadata": {},
   "outputs": [
    {
     "data": {
      "text/plain": [
       "Text(0.5, 1.0, 'covid result of other_disease patient')"
      ]
     },
     "execution_count": 35,
     "metadata": {},
     "output_type": "execute_result"
    },
    {
     "data": {
      "image/png": "[encoded data removed]",
      "text/plain": [
       "<Figure size 432x288 with 1 Axes>"
      ]
     },
     "metadata": {},
     "output_type": "display_data"
    }
   ],
   "source": [
    "df[\"other_disease\"] = df[\"other_disease\"].map({1:1,2:2,98:3})\n",
    "sns.countplot(x=\"other_disease\",data=df,hue=\"covid_result\").set_title('covid result of other_disease patient')"
   ]
  },
  {
   "cell_type": "code",
   "execution_count": 36,
   "metadata": {},
   "outputs": [
    {
     "data": {
      "text/plain": [
       "2     552005\n",
       "1      12775\n",
       "98      1822\n",
       "Name: cardiovascular, dtype: int64"
      ]
     },
     "execution_count": 36,
     "metadata": {},
     "output_type": "execute_result"
    }
   ],
   "source": [
    "df[\"cardiovascular\"].value_counts()"
   ]
  },
  {
   "cell_type": "code",
   "execution_count": 37,
   "metadata": {},
   "outputs": [
    {
     "data": {
      "text/plain": [
       "Text(0.5, 1.0, 'covid result of cardiovascular patient')"
      ]
     },
     "execution_count": 37,
     "metadata": {},
     "output_type": "execute_result"
    },
    {
     "data": {
      "image/png": "[encoded data removed]",
      "text/plain": [
       "<Figure size 432x288 with 1 Axes>"
      ]
     },
     "metadata": {},
     "output_type": "display_data"
    }
   ],
   "source": [
    "df[\"cardiovascular\"] = df[\"cardiovascular\"].map({1:1,2:2,98:3})\n",
    "sns.countplot(x=\"cardiovascular\",data=df,hue=\"covid_result\").set_title('covid result of cardiovascular patient')"
   ]
  },
  {
   "cell_type": "code",
   "execution_count": 38,
   "metadata": {},
   "outputs": [
    {
     "data": {
      "text/plain": [
       "2     472549\n",
       "1      92272\n",
       "98      1781\n",
       "Name: obesity, dtype: int64"
      ]
     },
     "execution_count": 38,
     "metadata": {},
     "output_type": "execute_result"
    }
   ],
   "source": [
    "df[\"obesity\"].value_counts()"
   ]
  },
  {
   "cell_type": "code",
   "execution_count": 39,
   "metadata": {},
   "outputs": [
    {
     "data": {
      "text/plain": [
       "Text(0.5, 1.0, 'covid result obesity of patient ')"
      ]
     },
     "execution_count": 39,
     "metadata": {},
     "output_type": "execute_result"
    },
    {
     "data": {
      "image/png": "[encoded data removed]",
      "text/plain": [
       "<Figure size 432x288 with 1 Axes>"
      ]
     },
     "metadata": {},
     "output_type": "display_data"
    }
   ],
   "source": [
    "df[\"obesity\"] = df[\"obesity\"].map({1:1,2:2,98:3})\n",
    "sns.countplot(x=\"obesity\",data=df,hue=\"covid_result\").set_title('covid result obesity of patient ')"
   ]
  },
  {
   "cell_type": "code",
   "execution_count": 40,
   "metadata": {},
   "outputs": [
    {
     "data": {
      "text/plain": [
       "2     553560\n",
       "1      11250\n",
       "98      1792\n",
       "Name: renal_chronic, dtype: int64"
      ]
     },
     "execution_count": 40,
     "metadata": {},
     "output_type": "execute_result"
    }
   ],
   "source": [
    "df[\"renal_chronic\"].value_counts()"
   ]
  },
  {
   "cell_type": "code",
   "execution_count": 41,
   "metadata": {},
   "outputs": [
    {
     "data": {
      "text/plain": [
       "Text(0.5, 1.0, 'covid result of renal_chronic patient')"
      ]
     },
     "execution_count": 41,
     "metadata": {},
     "output_type": "execute_result"
    },
    {
     "data": {
      "image/png": "[encoded data removed]",
      "text/plain": [
       "<Figure size 432x288 with 1 Axes>"
      ]
     },
     "metadata": {},
     "output_type": "display_data"
    }
   ],
   "source": [
    "df[\"renal_chronic\"] = df[\"renal_chronic\"].map({1:1,2:2,98:3})\n",
    "sns.countplot(x=\"renal_chronic\",data=df,hue=\"covid_result\").set_title('covid result of renal_chronic patient')"
   ]
  },
  {
   "cell_type": "code",
   "execution_count": 42,
   "metadata": {},
   "outputs": [
    {
     "data": {
      "text/plain": [
       "2     516678\n",
       "1      48017\n",
       "98      1907\n",
       "Name: tobacco, dtype: int64"
      ]
     },
     "execution_count": 42,
     "metadata": {},
     "output_type": "execute_result"
    }
   ],
   "source": [
    "df[\"tobacco\"].value_counts()"
   ]
  },
  {
   "cell_type": "code",
   "execution_count": 43,
   "metadata": {},
   "outputs": [
    {
     "data": {
      "text/plain": [
       "Text(0.5, 1.0, 'covid result of tobacco patient')"
      ]
     },
     "execution_count": 43,
     "metadata": {},
     "output_type": "execute_result"
    },
    {
     "data": {
      "image/png": "[encoded data removed]",
      "text/plain": [
       "<Figure size 432x288 with 1 Axes>"
      ]
     },
     "metadata": {},
     "output_type": "display_data"
    }
   ],
   "source": [
    "df[\"tobacco\"] = df[\"tobacco\"].map({1:1,2:2,3:3})\n",
    "sns.countplot(x=\"tobacco\",data=df,hue=\"covid_result\").set_title('covid result of tobacco patient')"
   ]
  },
  {
   "cell_type": "code",
   "execution_count": 44,
   "metadata": {},
   "outputs": [
    {
     "data": {
      "text/plain": [
       "1     221867\n",
       "99    175031\n",
       "2     169704\n",
       "Name: contact_other_covid, dtype: int64"
      ]
     },
     "execution_count": 44,
     "metadata": {},
     "output_type": "execute_result"
    }
   ],
   "source": [
    "df[\"contact_other_covid\"].value_counts()"
   ]
  },
  {
   "cell_type": "code",
   "execution_count": 45,
   "metadata": {},
   "outputs": [
    {
     "data": {
      "text/plain": [
       "Text(0.5, 1.0, 'covid result of contact_other_covid patient')"
      ]
     },
     "execution_count": 45,
     "metadata": {},
     "output_type": "execute_result"
    },
    {
     "data": {
      "image/png": "[encoded data removed]",
      "text/plain": [
       "<Figure size 432x288 with 1 Axes>"
      ]
     },
     "metadata": {},
     "output_type": "display_data"
    }
   ],
   "source": [
    "df[\"contact_other_covid\"] = df[\"contact_other_covid\"].map({1:1,2:2,99:3})\n",
    "sns.countplot(x=\"contact_other_covid\",data=df,hue=\"covid_result\").set_title('covid result of contact_other_covid patient')"
   ]
  },
  {
   "cell_type": "code",
   "execution_count": 46,
   "metadata": {},
   "outputs": [
    {
     "data": {
      "text/plain": [
       "97    444689\n",
       "2     111676\n",
       "1      10112\n",
       "99       125\n",
       "Name: icu, dtype: int64"
      ]
     },
     "execution_count": 46,
     "metadata": {},
     "output_type": "execute_result"
    }
   ],
   "source": [
    "df[\"icu\"].value_counts()"
   ]
  },
  {
   "cell_type": "code",
   "execution_count": 47,
   "metadata": {},
   "outputs": [
    {
     "data": {
      "text/plain": [
       "Text(0.5, 1.0, 'covid result of icu admitted patient')"
      ]
     },
     "execution_count": 47,
     "metadata": {},
     "output_type": "execute_result"
    },
    {
     "data": {
      "image/png": "[encoded data removed]",
      "text/plain": [
       "<Figure size 432x288 with 1 Axes>"
      ]
     },
     "metadata": {},
     "output_type": "display_data"
    }
   ],
   "source": [
    "df[\"icu\"] = df[\"icu\"].map({1:1,2:2,3:3})\n",
    "# 1 for not been admitted in icu ,2 for admitted in icu\n",
    "sns.countplot(x=\"icu\",data=df,hue=\"covid_result\").set_title('covid result of icu admitted patient')"
   ]
  },
  {
   "cell_type": "code",
   "execution_count": null,
   "metadata": {},
   "outputs": [],
   "source": []
  },
  {
   "cell_type": "code",
   "execution_count": 48,
   "metadata": {},
   "outputs": [
    {
     "data": {
      "text/plain": [
       "Negative    279035\n",
       "Positive    220657\n",
       "Awaited      66910\n",
       "Name: covid_result, dtype: int64"
      ]
     },
     "execution_count": 48,
     "metadata": {},
     "output_type": "execute_result"
    }
   ],
   "source": [
    "df[\"covid_result\"].value_counts()"
   ]
  },
  {
   "cell_type": "code",
   "execution_count": 49,
   "metadata": {},
   "outputs": [
    {
     "name": "stdout",
     "output_type": "stream",
     "text": [
      "01-04-2020\n",
      "9999-99-99\n"
     ]
    }
   ],
   "source": [
    "df.head()\n",
    "print(df[\"date_died\"].min())\n",
    "print(df[\"date_died\"].max())"
   ]
  },
  {
   "cell_type": "code",
   "execution_count": 50,
   "metadata": {},
   "outputs": [],
   "source": [
    "df['date_died'].replace('9999-99-99','01-01-2020',inplace=True)"
   ]
  },
  {
   "cell_type": "code",
   "execution_count": 51,
   "metadata": {},
   "outputs": [
    {
     "name": "stdout",
     "output_type": "stream",
     "text": [
      "01-01-2020\n",
      "31-05-2020\n"
     ]
    }
   ],
   "source": [
    "df.head()\n",
    "print(df[\"date_died\"].min())\n",
    "print(df[\"date_died\"].max())"
   ]
  },
  {
   "cell_type": "code",
   "execution_count": 52,
   "metadata": {},
   "outputs": [
    {
     "data": {
      "text/html": [
       "<div>\n",
       "<style scoped>\n",
       "    .dataframe tbody tr th:only-of-type {\n",
       "        vertical-align: middle;\n",
       "    }\n",
       "\n",
       "    .dataframe tbody tr th {\n",
       "        vertical-align: top;\n",
       "    }\n",
       "\n",
       "    .dataframe thead th {\n",
       "        text-align: right;\n",
       "    }\n",
       "</style>\n",
       "<table border=\"1\" class=\"dataframe\">\n",
       "  <thead>\n",
       "    <tr style=\"text-align: right;\">\n",
       "      <th></th>\n",
       "      <th>id</th>\n",
       "      <th>sex</th>\n",
       "      <th>patient_type</th>\n",
       "      <th>entry_date</th>\n",
       "      <th>date_symptoms</th>\n",
       "      <th>date_died</th>\n",
       "      <th>intubed</th>\n",
       "      <th>pneumonia</th>\n",
       "      <th>age</th>\n",
       "      <th>pregnancy</th>\n",
       "      <th>diabetes</th>\n",
       "      <th>copd</th>\n",
       "      <th>asthma</th>\n",
       "      <th>inmsupr</th>\n",
       "      <th>hypertension</th>\n",
       "      <th>other_disease</th>\n",
       "      <th>cardiovascular</th>\n",
       "      <th>obesity</th>\n",
       "      <th>renal_chronic</th>\n",
       "      <th>tobacco</th>\n",
       "      <th>contact_other_covid</th>\n",
       "      <th>covid_result</th>\n",
       "      <th>icu</th>\n",
       "    </tr>\n",
       "  </thead>\n",
       "  <tbody>\n",
       "    <tr>\n",
       "      <th>566597</th>\n",
       "      <td>01ff60</td>\n",
       "      <td>2</td>\n",
       "      <td>1</td>\n",
       "      <td>13-05-2020</td>\n",
       "      <td>03-05-2020</td>\n",
       "      <td>01-01-2020</td>\n",
       "      <td>3</td>\n",
       "      <td>2</td>\n",
       "      <td>58</td>\n",
       "      <td>3</td>\n",
       "      <td>1</td>\n",
       "      <td>2</td>\n",
       "      <td>2</td>\n",
       "      <td>2</td>\n",
       "      <td>2</td>\n",
       "      <td>2</td>\n",
       "      <td>2</td>\n",
       "      <td>2</td>\n",
       "      <td>2</td>\n",
       "      <td>2.0</td>\n",
       "      <td>2</td>\n",
       "      <td>Awaited</td>\n",
       "      <td>NaN</td>\n",
       "    </tr>\n",
       "    <tr>\n",
       "      <th>566598</th>\n",
       "      <td>047cd1</td>\n",
       "      <td>1</td>\n",
       "      <td>1</td>\n",
       "      <td>07-04-2020</td>\n",
       "      <td>06-04-2020</td>\n",
       "      <td>01-01-2020</td>\n",
       "      <td>3</td>\n",
       "      <td>2</td>\n",
       "      <td>48</td>\n",
       "      <td>2</td>\n",
       "      <td>2</td>\n",
       "      <td>2</td>\n",
       "      <td>2</td>\n",
       "      <td>2</td>\n",
       "      <td>2</td>\n",
       "      <td>2</td>\n",
       "      <td>2</td>\n",
       "      <td>2</td>\n",
       "      <td>2</td>\n",
       "      <td>2.0</td>\n",
       "      <td>2</td>\n",
       "      <td>Awaited</td>\n",
       "      <td>NaN</td>\n",
       "    </tr>\n",
       "    <tr>\n",
       "      <th>566599</th>\n",
       "      <td>1beb81</td>\n",
       "      <td>1</td>\n",
       "      <td>2</td>\n",
       "      <td>14-05-2020</td>\n",
       "      <td>01-05-2020</td>\n",
       "      <td>01-01-2020</td>\n",
       "      <td>2</td>\n",
       "      <td>1</td>\n",
       "      <td>49</td>\n",
       "      <td>2</td>\n",
       "      <td>2</td>\n",
       "      <td>2</td>\n",
       "      <td>2</td>\n",
       "      <td>2</td>\n",
       "      <td>2</td>\n",
       "      <td>2</td>\n",
       "      <td>2</td>\n",
       "      <td>1</td>\n",
       "      <td>2</td>\n",
       "      <td>2.0</td>\n",
       "      <td>3</td>\n",
       "      <td>Awaited</td>\n",
       "      <td>2.0</td>\n",
       "    </tr>\n",
       "    <tr>\n",
       "      <th>566600</th>\n",
       "      <td>16fb02</td>\n",
       "      <td>1</td>\n",
       "      <td>1</td>\n",
       "      <td>31-05-2020</td>\n",
       "      <td>29-05-2020</td>\n",
       "      <td>01-01-2020</td>\n",
       "      <td>3</td>\n",
       "      <td>1</td>\n",
       "      <td>43</td>\n",
       "      <td>2</td>\n",
       "      <td>2</td>\n",
       "      <td>2</td>\n",
       "      <td>2</td>\n",
       "      <td>2</td>\n",
       "      <td>2</td>\n",
       "      <td>2</td>\n",
       "      <td>2</td>\n",
       "      <td>2</td>\n",
       "      <td>2</td>\n",
       "      <td>2.0</td>\n",
       "      <td>2</td>\n",
       "      <td>Awaited</td>\n",
       "      <td>NaN</td>\n",
       "    </tr>\n",
       "    <tr>\n",
       "      <th>566601</th>\n",
       "      <td>0021c9</td>\n",
       "      <td>2</td>\n",
       "      <td>1</td>\n",
       "      <td>16-05-2020</td>\n",
       "      <td>16-05-2020</td>\n",
       "      <td>01-01-2020</td>\n",
       "      <td>3</td>\n",
       "      <td>1</td>\n",
       "      <td>65</td>\n",
       "      <td>3</td>\n",
       "      <td>1</td>\n",
       "      <td>2</td>\n",
       "      <td>2</td>\n",
       "      <td>2</td>\n",
       "      <td>1</td>\n",
       "      <td>2</td>\n",
       "      <td>2</td>\n",
       "      <td>1</td>\n",
       "      <td>2</td>\n",
       "      <td>2.0</td>\n",
       "      <td>2</td>\n",
       "      <td>Awaited</td>\n",
       "      <td>NaN</td>\n",
       "    </tr>\n",
       "  </tbody>\n",
       "</table>\n",
       "</div>"
      ],
      "text/plain": [
       "            id  sex  patient_type  entry_date date_symptoms   date_died  \\\n",
       "566597  01ff60    2             1  13-05-2020    03-05-2020  01-01-2020   \n",
       "566598  047cd1    1             1  07-04-2020    06-04-2020  01-01-2020   \n",
       "566599  1beb81    1             2  14-05-2020    01-05-2020  01-01-2020   \n",
       "566600  16fb02    1             1  31-05-2020    29-05-2020  01-01-2020   \n",
       "566601  0021c9    2             1  16-05-2020    16-05-2020  01-01-2020   \n",
       "\n",
       "        intubed  pneumonia  age  pregnancy  diabetes  copd  asthma  inmsupr  \\\n",
       "566597        3          2   58          3         1     2       2        2   \n",
       "566598        3          2   48          2         2     2       2        2   \n",
       "566599        2          1   49          2         2     2       2        2   \n",
       "566600        3          1   43          2         2     2       2        2   \n",
       "566601        3          1   65          3         1     2       2        2   \n",
       "\n",
       "        hypertension  other_disease  cardiovascular  obesity  renal_chronic  \\\n",
       "566597             2              2               2        2              2   \n",
       "566598             2              2               2        2              2   \n",
       "566599             2              2               2        1              2   \n",
       "566600             2              2               2        2              2   \n",
       "566601             1              2               2        1              2   \n",
       "\n",
       "        tobacco  contact_other_covid covid_result  icu  \n",
       "566597      2.0                    2      Awaited  NaN  \n",
       "566598      2.0                    2      Awaited  NaN  \n",
       "566599      2.0                    3      Awaited  2.0  \n",
       "566600      2.0                    2      Awaited  NaN  \n",
       "566601      2.0                    2      Awaited  NaN  "
      ]
     },
     "execution_count": 52,
     "metadata": {},
     "output_type": "execute_result"
    }
   ],
   "source": [
    "df.tail()"
   ]
  },
  {
   "cell_type": "code",
   "execution_count": 53,
   "metadata": {},
   "outputs": [],
   "source": [
    "# df['PositiveCount']=1\n",
    "# df=df[df['covid_result']=='Positive']\n",
    "# df=df.groupby('entry_date')['PositiveCount'].count().reset_index()\n",
    "# df.sort_values(by='entry_date',inplace=True)\n",
    "# df.head(5)\n"
   ]
  },
  {
   "cell_type": "code",
   "execution_count": 54,
   "metadata": {},
   "outputs": [
    {
     "data": {
      "text/plain": [
       "0         01-01-2020\n",
       "1         01-01-2020\n",
       "2         01-01-2020\n",
       "3         01-01-2020\n",
       "4         22-04-2020\n",
       "             ...    \n",
       "566597    01-01-2020\n",
       "566598    01-01-2020\n",
       "566599    01-01-2020\n",
       "566600    01-01-2020\n",
       "566601    01-01-2020\n",
       "Name: date_died, Length: 566602, dtype: object"
      ]
     },
     "execution_count": 54,
     "metadata": {},
     "output_type": "execute_result"
    }
   ],
   "source": [
    "df[\"date_died\"]"
   ]
  },
  {
   "cell_type": "code",
   "execution_count": 55,
   "metadata": {},
   "outputs": [],
   "source": [
    "from datetime import datetime"
   ]
  },
  {
   "cell_type": "code",
   "execution_count": 56,
   "metadata": {},
   "outputs": [],
   "source": [
    "df[\"entry_date_day\"] =  pd.to_datetime(df.entry_date, format = \"%d-%m-%Y\").dt.day\n",
    "df[\"entry_date_month\"] =  pd.to_datetime(df.entry_date, format = \"%d-%m-%Y\").dt.month\n",
    "df[\"entry_date_year\"] =  pd.to_datetime(df.entry_date, format = \"%d-%m-%Y\").dt.year"
   ]
  },
  {
   "cell_type": "code",
   "execution_count": 57,
   "metadata": {},
   "outputs": [
    {
     "data": {
      "text/html": [
       "<div>\n",
       "<style scoped>\n",
       "    .dataframe tbody tr th:only-of-type {\n",
       "        vertical-align: middle;\n",
       "    }\n",
       "\n",
       "    .dataframe tbody tr th {\n",
       "        vertical-align: top;\n",
       "    }\n",
       "\n",
       "    .dataframe thead th {\n",
       "        text-align: right;\n",
       "    }\n",
       "</style>\n",
       "<table border=\"1\" class=\"dataframe\">\n",
       "  <thead>\n",
       "    <tr style=\"text-align: right;\">\n",
       "      <th></th>\n",
       "      <th>id</th>\n",
       "      <th>sex</th>\n",
       "      <th>patient_type</th>\n",
       "      <th>entry_date</th>\n",
       "      <th>date_symptoms</th>\n",
       "      <th>date_died</th>\n",
       "      <th>intubed</th>\n",
       "      <th>pneumonia</th>\n",
       "      <th>age</th>\n",
       "      <th>pregnancy</th>\n",
       "      <th>diabetes</th>\n",
       "      <th>copd</th>\n",
       "      <th>asthma</th>\n",
       "      <th>inmsupr</th>\n",
       "      <th>hypertension</th>\n",
       "      <th>other_disease</th>\n",
       "      <th>cardiovascular</th>\n",
       "      <th>obesity</th>\n",
       "      <th>renal_chronic</th>\n",
       "      <th>tobacco</th>\n",
       "      <th>contact_other_covid</th>\n",
       "      <th>covid_result</th>\n",
       "      <th>icu</th>\n",
       "      <th>entry_date_day</th>\n",
       "      <th>entry_date_month</th>\n",
       "      <th>entry_date_year</th>\n",
       "    </tr>\n",
       "  </thead>\n",
       "  <tbody>\n",
       "    <tr>\n",
       "      <th>0</th>\n",
       "      <td>16169f</td>\n",
       "      <td>2</td>\n",
       "      <td>1</td>\n",
       "      <td>04-05-2020</td>\n",
       "      <td>02-05-2020</td>\n",
       "      <td>01-01-2020</td>\n",
       "      <td>3</td>\n",
       "      <td>2</td>\n",
       "      <td>27</td>\n",
       "      <td>3</td>\n",
       "      <td>2</td>\n",
       "      <td>2</td>\n",
       "      <td>2</td>\n",
       "      <td>2</td>\n",
       "      <td>2</td>\n",
       "      <td>2</td>\n",
       "      <td>2</td>\n",
       "      <td>2</td>\n",
       "      <td>2</td>\n",
       "      <td>2.0</td>\n",
       "      <td>2</td>\n",
       "      <td>Positive</td>\n",
       "      <td>NaN</td>\n",
       "      <td>4</td>\n",
       "      <td>5</td>\n",
       "      <td>2020</td>\n",
       "    </tr>\n",
       "    <tr>\n",
       "      <th>1</th>\n",
       "      <td>1009bf</td>\n",
       "      <td>2</td>\n",
       "      <td>1</td>\n",
       "      <td>19-03-2020</td>\n",
       "      <td>17-03-2020</td>\n",
       "      <td>01-01-2020</td>\n",
       "      <td>3</td>\n",
       "      <td>2</td>\n",
       "      <td>24</td>\n",
       "      <td>3</td>\n",
       "      <td>2</td>\n",
       "      <td>2</td>\n",
       "      <td>2</td>\n",
       "      <td>2</td>\n",
       "      <td>2</td>\n",
       "      <td>2</td>\n",
       "      <td>2</td>\n",
       "      <td>2</td>\n",
       "      <td>2</td>\n",
       "      <td>2.0</td>\n",
       "      <td>3</td>\n",
       "      <td>Positive</td>\n",
       "      <td>NaN</td>\n",
       "      <td>19</td>\n",
       "      <td>3</td>\n",
       "      <td>2020</td>\n",
       "    </tr>\n",
       "    <tr>\n",
       "      <th>2</th>\n",
       "      <td>167386</td>\n",
       "      <td>1</td>\n",
       "      <td>2</td>\n",
       "      <td>06-04-2020</td>\n",
       "      <td>01-04-2020</td>\n",
       "      <td>01-01-2020</td>\n",
       "      <td>2</td>\n",
       "      <td>2</td>\n",
       "      <td>54</td>\n",
       "      <td>2</td>\n",
       "      <td>2</td>\n",
       "      <td>2</td>\n",
       "      <td>2</td>\n",
       "      <td>2</td>\n",
       "      <td>2</td>\n",
       "      <td>2</td>\n",
       "      <td>2</td>\n",
       "      <td>1</td>\n",
       "      <td>2</td>\n",
       "      <td>2.0</td>\n",
       "      <td>3</td>\n",
       "      <td>Positive</td>\n",
       "      <td>2.0</td>\n",
       "      <td>6</td>\n",
       "      <td>4</td>\n",
       "      <td>2020</td>\n",
       "    </tr>\n",
       "    <tr>\n",
       "      <th>3</th>\n",
       "      <td>0b5948</td>\n",
       "      <td>2</td>\n",
       "      <td>2</td>\n",
       "      <td>17-04-2020</td>\n",
       "      <td>10-04-2020</td>\n",
       "      <td>01-01-2020</td>\n",
       "      <td>2</td>\n",
       "      <td>1</td>\n",
       "      <td>30</td>\n",
       "      <td>3</td>\n",
       "      <td>2</td>\n",
       "      <td>2</td>\n",
       "      <td>2</td>\n",
       "      <td>2</td>\n",
       "      <td>2</td>\n",
       "      <td>2</td>\n",
       "      <td>2</td>\n",
       "      <td>2</td>\n",
       "      <td>2</td>\n",
       "      <td>2.0</td>\n",
       "      <td>3</td>\n",
       "      <td>Positive</td>\n",
       "      <td>2.0</td>\n",
       "      <td>17</td>\n",
       "      <td>4</td>\n",
       "      <td>2020</td>\n",
       "    </tr>\n",
       "    <tr>\n",
       "      <th>4</th>\n",
       "      <td>0d01b5</td>\n",
       "      <td>1</td>\n",
       "      <td>2</td>\n",
       "      <td>13-04-2020</td>\n",
       "      <td>13-04-2020</td>\n",
       "      <td>22-04-2020</td>\n",
       "      <td>2</td>\n",
       "      <td>2</td>\n",
       "      <td>60</td>\n",
       "      <td>2</td>\n",
       "      <td>1</td>\n",
       "      <td>2</td>\n",
       "      <td>2</td>\n",
       "      <td>2</td>\n",
       "      <td>1</td>\n",
       "      <td>2</td>\n",
       "      <td>1</td>\n",
       "      <td>2</td>\n",
       "      <td>2</td>\n",
       "      <td>2.0</td>\n",
       "      <td>3</td>\n",
       "      <td>Positive</td>\n",
       "      <td>2.0</td>\n",
       "      <td>13</td>\n",
       "      <td>4</td>\n",
       "      <td>2020</td>\n",
       "    </tr>\n",
       "  </tbody>\n",
       "</table>\n",
       "</div>"
      ],
      "text/plain": [
       "       id  sex  patient_type  entry_date date_symptoms   date_died  intubed  \\\n",
       "0  16169f    2             1  04-05-2020    02-05-2020  01-01-2020        3   \n",
       "1  1009bf    2             1  19-03-2020    17-03-2020  01-01-2020        3   \n",
       "2  167386    1             2  06-04-2020    01-04-2020  01-01-2020        2   \n",
       "3  0b5948    2             2  17-04-2020    10-04-2020  01-01-2020        2   \n",
       "4  0d01b5    1             2  13-04-2020    13-04-2020  22-04-2020        2   \n",
       "\n",
       "   pneumonia  age  pregnancy  diabetes  copd  asthma  inmsupr  hypertension  \\\n",
       "0          2   27          3         2     2       2        2             2   \n",
       "1          2   24          3         2     2       2        2             2   \n",
       "2          2   54          2         2     2       2        2             2   \n",
       "3          1   30          3         2     2       2        2             2   \n",
       "4          2   60          2         1     2       2        2             1   \n",
       "\n",
       "   other_disease  cardiovascular  obesity  renal_chronic  tobacco  \\\n",
       "0              2               2        2              2      2.0   \n",
       "1              2               2        2              2      2.0   \n",
       "2              2               2        1              2      2.0   \n",
       "3              2               2        2              2      2.0   \n",
       "4              2               1        2              2      2.0   \n",
       "\n",
       "   contact_other_covid covid_result  icu  entry_date_day  entry_date_month  \\\n",
       "0                    2     Positive  NaN               4                 5   \n",
       "1                    3     Positive  NaN              19                 3   \n",
       "2                    3     Positive  2.0               6                 4   \n",
       "3                    3     Positive  2.0              17                 4   \n",
       "4                    3     Positive  2.0              13                 4   \n",
       "\n",
       "   entry_date_year  \n",
       "0             2020  \n",
       "1             2020  \n",
       "2             2020  \n",
       "3             2020  \n",
       "4             2020  "
      ]
     },
     "execution_count": 57,
     "metadata": {},
     "output_type": "execute_result"
    }
   ],
   "source": [
    "df.head()"
   ]
  },
  {
   "cell_type": "markdown",
   "metadata": {},
   "source": [
    "\n",
    "* convert date columns into datetime formate"
   ]
  },
  {
   "cell_type": "code",
   "execution_count": 58,
   "metadata": {},
   "outputs": [
    {
     "data": {
      "text/plain": [
       "0         02-05-2020\n",
       "1         17-03-2020\n",
       "2         01-04-2020\n",
       "3         10-04-2020\n",
       "4         13-04-2020\n",
       "             ...    \n",
       "566597    03-05-2020\n",
       "566598    06-04-2020\n",
       "566599    01-05-2020\n",
       "566600    29-05-2020\n",
       "566601    16-05-2020\n",
       "Name: date_symptoms, Length: 566602, dtype: object"
      ]
     },
     "execution_count": 58,
     "metadata": {},
     "output_type": "execute_result"
    }
   ],
   "source": [
    "df[\"date_symptoms\"]"
   ]
  },
  {
   "cell_type": "code",
   "execution_count": 59,
   "metadata": {},
   "outputs": [],
   "source": [
    "df[\"date_symptoms_day\"]   =  pd.to_datetime(df.date_symptoms, format = \"%d-%m-%Y\").dt.day\n",
    "df[\"date_symptoms_month\"] =  pd.to_datetime(df.date_symptoms, format = \"%d-%m-%Y\").dt.month\n",
    "df[\"date_symptoms_year\"]  =  pd.to_datetime(df.date_symptoms, format = \"%d-%m-%Y\").dt.year"
   ]
  },
  {
   "cell_type": "code",
   "execution_count": 60,
   "metadata": {},
   "outputs": [],
   "source": [
    "df[\"date_died_day\"] =  pd.to_datetime(df.date_died, format = \"%d-%m-%Y\").dt.day\n",
    "df[\"date_died_month\"] =  pd.to_datetime(df.date_died, format = \"%d-%m-%Y\").dt.month\n",
    "df[\"date_died_year\"] =  pd.to_datetime(df.date_died, format = \"%d-%m-%Y\").dt.year"
   ]
  },
  {
   "cell_type": "markdown",
   "metadata": {},
   "source": [
    "* date_died column having many entries with 9999-99-99 so it is not supportive to convert into datetime"
   ]
  },
  {
   "cell_type": "code",
   "execution_count": 61,
   "metadata": {},
   "outputs": [
    {
     "data": {
      "text/html": [
       "<div>\n",
       "<style scoped>\n",
       "    .dataframe tbody tr th:only-of-type {\n",
       "        vertical-align: middle;\n",
       "    }\n",
       "\n",
       "    .dataframe tbody tr th {\n",
       "        vertical-align: top;\n",
       "    }\n",
       "\n",
       "    .dataframe thead th {\n",
       "        text-align: right;\n",
       "    }\n",
       "</style>\n",
       "<table border=\"1\" class=\"dataframe\">\n",
       "  <thead>\n",
       "    <tr style=\"text-align: right;\">\n",
       "      <th></th>\n",
       "      <th>id</th>\n",
       "      <th>sex</th>\n",
       "      <th>patient_type</th>\n",
       "      <th>entry_date</th>\n",
       "      <th>date_symptoms</th>\n",
       "      <th>date_died</th>\n",
       "      <th>intubed</th>\n",
       "      <th>pneumonia</th>\n",
       "      <th>age</th>\n",
       "      <th>pregnancy</th>\n",
       "      <th>diabetes</th>\n",
       "      <th>copd</th>\n",
       "      <th>asthma</th>\n",
       "      <th>inmsupr</th>\n",
       "      <th>hypertension</th>\n",
       "      <th>other_disease</th>\n",
       "      <th>cardiovascular</th>\n",
       "      <th>obesity</th>\n",
       "      <th>renal_chronic</th>\n",
       "      <th>tobacco</th>\n",
       "      <th>contact_other_covid</th>\n",
       "      <th>covid_result</th>\n",
       "      <th>icu</th>\n",
       "      <th>entry_date_day</th>\n",
       "      <th>entry_date_month</th>\n",
       "      <th>entry_date_year</th>\n",
       "      <th>date_symptoms_day</th>\n",
       "      <th>date_symptoms_month</th>\n",
       "      <th>date_symptoms_year</th>\n",
       "      <th>date_died_day</th>\n",
       "      <th>date_died_month</th>\n",
       "      <th>date_died_year</th>\n",
       "    </tr>\n",
       "  </thead>\n",
       "  <tbody>\n",
       "    <tr>\n",
       "      <th>0</th>\n",
       "      <td>16169f</td>\n",
       "      <td>2</td>\n",
       "      <td>1</td>\n",
       "      <td>04-05-2020</td>\n",
       "      <td>02-05-2020</td>\n",
       "      <td>01-01-2020</td>\n",
       "      <td>3</td>\n",
       "      <td>2</td>\n",
       "      <td>27</td>\n",
       "      <td>3</td>\n",
       "      <td>2</td>\n",
       "      <td>2</td>\n",
       "      <td>2</td>\n",
       "      <td>2</td>\n",
       "      <td>2</td>\n",
       "      <td>2</td>\n",
       "      <td>2</td>\n",
       "      <td>2</td>\n",
       "      <td>2</td>\n",
       "      <td>2.0</td>\n",
       "      <td>2</td>\n",
       "      <td>Positive</td>\n",
       "      <td>NaN</td>\n",
       "      <td>4</td>\n",
       "      <td>5</td>\n",
       "      <td>2020</td>\n",
       "      <td>2</td>\n",
       "      <td>5</td>\n",
       "      <td>2020</td>\n",
       "      <td>1</td>\n",
       "      <td>1</td>\n",
       "      <td>2020</td>\n",
       "    </tr>\n",
       "    <tr>\n",
       "      <th>1</th>\n",
       "      <td>1009bf</td>\n",
       "      <td>2</td>\n",
       "      <td>1</td>\n",
       "      <td>19-03-2020</td>\n",
       "      <td>17-03-2020</td>\n",
       "      <td>01-01-2020</td>\n",
       "      <td>3</td>\n",
       "      <td>2</td>\n",
       "      <td>24</td>\n",
       "      <td>3</td>\n",
       "      <td>2</td>\n",
       "      <td>2</td>\n",
       "      <td>2</td>\n",
       "      <td>2</td>\n",
       "      <td>2</td>\n",
       "      <td>2</td>\n",
       "      <td>2</td>\n",
       "      <td>2</td>\n",
       "      <td>2</td>\n",
       "      <td>2.0</td>\n",
       "      <td>3</td>\n",
       "      <td>Positive</td>\n",
       "      <td>NaN</td>\n",
       "      <td>19</td>\n",
       "      <td>3</td>\n",
       "      <td>2020</td>\n",
       "      <td>17</td>\n",
       "      <td>3</td>\n",
       "      <td>2020</td>\n",
       "      <td>1</td>\n",
       "      <td>1</td>\n",
       "      <td>2020</td>\n",
       "    </tr>\n",
       "    <tr>\n",
       "      <th>2</th>\n",
       "      <td>167386</td>\n",
       "      <td>1</td>\n",
       "      <td>2</td>\n",
       "      <td>06-04-2020</td>\n",
       "      <td>01-04-2020</td>\n",
       "      <td>01-01-2020</td>\n",
       "      <td>2</td>\n",
       "      <td>2</td>\n",
       "      <td>54</td>\n",
       "      <td>2</td>\n",
       "      <td>2</td>\n",
       "      <td>2</td>\n",
       "      <td>2</td>\n",
       "      <td>2</td>\n",
       "      <td>2</td>\n",
       "      <td>2</td>\n",
       "      <td>2</td>\n",
       "      <td>1</td>\n",
       "      <td>2</td>\n",
       "      <td>2.0</td>\n",
       "      <td>3</td>\n",
       "      <td>Positive</td>\n",
       "      <td>2.0</td>\n",
       "      <td>6</td>\n",
       "      <td>4</td>\n",
       "      <td>2020</td>\n",
       "      <td>1</td>\n",
       "      <td>4</td>\n",
       "      <td>2020</td>\n",
       "      <td>1</td>\n",
       "      <td>1</td>\n",
       "      <td>2020</td>\n",
       "    </tr>\n",
       "    <tr>\n",
       "      <th>3</th>\n",
       "      <td>0b5948</td>\n",
       "      <td>2</td>\n",
       "      <td>2</td>\n",
       "      <td>17-04-2020</td>\n",
       "      <td>10-04-2020</td>\n",
       "      <td>01-01-2020</td>\n",
       "      <td>2</td>\n",
       "      <td>1</td>\n",
       "      <td>30</td>\n",
       "      <td>3</td>\n",
       "      <td>2</td>\n",
       "      <td>2</td>\n",
       "      <td>2</td>\n",
       "      <td>2</td>\n",
       "      <td>2</td>\n",
       "      <td>2</td>\n",
       "      <td>2</td>\n",
       "      <td>2</td>\n",
       "      <td>2</td>\n",
       "      <td>2.0</td>\n",
       "      <td>3</td>\n",
       "      <td>Positive</td>\n",
       "      <td>2.0</td>\n",
       "      <td>17</td>\n",
       "      <td>4</td>\n",
       "      <td>2020</td>\n",
       "      <td>10</td>\n",
       "      <td>4</td>\n",
       "      <td>2020</td>\n",
       "      <td>1</td>\n",
       "      <td>1</td>\n",
       "      <td>2020</td>\n",
       "    </tr>\n",
       "    <tr>\n",
       "      <th>4</th>\n",
       "      <td>0d01b5</td>\n",
       "      <td>1</td>\n",
       "      <td>2</td>\n",
       "      <td>13-04-2020</td>\n",
       "      <td>13-04-2020</td>\n",
       "      <td>22-04-2020</td>\n",
       "      <td>2</td>\n",
       "      <td>2</td>\n",
       "      <td>60</td>\n",
       "      <td>2</td>\n",
       "      <td>1</td>\n",
       "      <td>2</td>\n",
       "      <td>2</td>\n",
       "      <td>2</td>\n",
       "      <td>1</td>\n",
       "      <td>2</td>\n",
       "      <td>1</td>\n",
       "      <td>2</td>\n",
       "      <td>2</td>\n",
       "      <td>2.0</td>\n",
       "      <td>3</td>\n",
       "      <td>Positive</td>\n",
       "      <td>2.0</td>\n",
       "      <td>13</td>\n",
       "      <td>4</td>\n",
       "      <td>2020</td>\n",
       "      <td>13</td>\n",
       "      <td>4</td>\n",
       "      <td>2020</td>\n",
       "      <td>22</td>\n",
       "      <td>4</td>\n",
       "      <td>2020</td>\n",
       "    </tr>\n",
       "  </tbody>\n",
       "</table>\n",
       "</div>"
      ],
      "text/plain": [
       "       id  sex  patient_type  entry_date date_symptoms   date_died  intubed  \\\n",
       "0  16169f    2             1  04-05-2020    02-05-2020  01-01-2020        3   \n",
       "1  1009bf    2             1  19-03-2020    17-03-2020  01-01-2020        3   \n",
       "2  167386    1             2  06-04-2020    01-04-2020  01-01-2020        2   \n",
       "3  0b5948    2             2  17-04-2020    10-04-2020  01-01-2020        2   \n",
       "4  0d01b5    1             2  13-04-2020    13-04-2020  22-04-2020        2   \n",
       "\n",
       "   pneumonia  age  pregnancy  diabetes  copd  asthma  inmsupr  hypertension  \\\n",
       "0          2   27          3         2     2       2        2             2   \n",
       "1          2   24          3         2     2       2        2             2   \n",
       "2          2   54          2         2     2       2        2             2   \n",
       "3          1   30          3         2     2       2        2             2   \n",
       "4          2   60          2         1     2       2        2             1   \n",
       "\n",
       "   other_disease  cardiovascular  obesity  renal_chronic  tobacco  \\\n",
       "0              2               2        2              2      2.0   \n",
       "1              2               2        2              2      2.0   \n",
       "2              2               2        1              2      2.0   \n",
       "3              2               2        2              2      2.0   \n",
       "4              2               1        2              2      2.0   \n",
       "\n",
       "   contact_other_covid covid_result  icu  entry_date_day  entry_date_month  \\\n",
       "0                    2     Positive  NaN               4                 5   \n",
       "1                    3     Positive  NaN              19                 3   \n",
       "2                    3     Positive  2.0               6                 4   \n",
       "3                    3     Positive  2.0              17                 4   \n",
       "4                    3     Positive  2.0              13                 4   \n",
       "\n",
       "   entry_date_year  date_symptoms_day  date_symptoms_month  \\\n",
       "0             2020                  2                    5   \n",
       "1             2020                 17                    3   \n",
       "2             2020                  1                    4   \n",
       "3             2020                 10                    4   \n",
       "4             2020                 13                    4   \n",
       "\n",
       "   date_symptoms_year  date_died_day  date_died_month  date_died_year  \n",
       "0                2020              1                1            2020  \n",
       "1                2020              1                1            2020  \n",
       "2                2020              1                1            2020  \n",
       "3                2020              1                1            2020  \n",
       "4                2020             22                4            2020  "
      ]
     },
     "execution_count": 61,
     "metadata": {},
     "output_type": "execute_result"
    }
   ],
   "source": [
    "df.head()"
   ]
  },
  {
   "cell_type": "code",
   "execution_count": 62,
   "metadata": {},
   "outputs": [
    {
     "data": {
      "text/html": [
       "<div>\n",
       "<style scoped>\n",
       "    .dataframe tbody tr th:only-of-type {\n",
       "        vertical-align: middle;\n",
       "    }\n",
       "\n",
       "    .dataframe tbody tr th {\n",
       "        vertical-align: top;\n",
       "    }\n",
       "\n",
       "    .dataframe thead th {\n",
       "        text-align: right;\n",
       "    }\n",
       "</style>\n",
       "<table border=\"1\" class=\"dataframe\">\n",
       "  <thead>\n",
       "    <tr style=\"text-align: right;\">\n",
       "      <th></th>\n",
       "      <th>id</th>\n",
       "      <th>sex</th>\n",
       "      <th>patient_type</th>\n",
       "      <th>entry_date</th>\n",
       "      <th>date_symptoms</th>\n",
       "      <th>date_died</th>\n",
       "      <th>intubed</th>\n",
       "      <th>pneumonia</th>\n",
       "      <th>age</th>\n",
       "      <th>pregnancy</th>\n",
       "      <th>diabetes</th>\n",
       "      <th>copd</th>\n",
       "      <th>asthma</th>\n",
       "      <th>inmsupr</th>\n",
       "      <th>hypertension</th>\n",
       "      <th>other_disease</th>\n",
       "      <th>cardiovascular</th>\n",
       "      <th>obesity</th>\n",
       "      <th>renal_chronic</th>\n",
       "      <th>tobacco</th>\n",
       "      <th>contact_other_covid</th>\n",
       "      <th>covid_result</th>\n",
       "      <th>icu</th>\n",
       "      <th>entry_date_day</th>\n",
       "      <th>entry_date_month</th>\n",
       "      <th>entry_date_year</th>\n",
       "      <th>date_symptoms_day</th>\n",
       "      <th>date_symptoms_month</th>\n",
       "      <th>date_symptoms_year</th>\n",
       "      <th>date_died_day</th>\n",
       "      <th>date_died_month</th>\n",
       "      <th>date_died_year</th>\n",
       "    </tr>\n",
       "  </thead>\n",
       "  <tbody>\n",
       "    <tr>\n",
       "      <th>566597</th>\n",
       "      <td>01ff60</td>\n",
       "      <td>2</td>\n",
       "      <td>1</td>\n",
       "      <td>13-05-2020</td>\n",
       "      <td>03-05-2020</td>\n",
       "      <td>01-01-2020</td>\n",
       "      <td>3</td>\n",
       "      <td>2</td>\n",
       "      <td>58</td>\n",
       "      <td>3</td>\n",
       "      <td>1</td>\n",
       "      <td>2</td>\n",
       "      <td>2</td>\n",
       "      <td>2</td>\n",
       "      <td>2</td>\n",
       "      <td>2</td>\n",
       "      <td>2</td>\n",
       "      <td>2</td>\n",
       "      <td>2</td>\n",
       "      <td>2.0</td>\n",
       "      <td>2</td>\n",
       "      <td>Awaited</td>\n",
       "      <td>NaN</td>\n",
       "      <td>13</td>\n",
       "      <td>5</td>\n",
       "      <td>2020</td>\n",
       "      <td>3</td>\n",
       "      <td>5</td>\n",
       "      <td>2020</td>\n",
       "      <td>1</td>\n",
       "      <td>1</td>\n",
       "      <td>2020</td>\n",
       "    </tr>\n",
       "    <tr>\n",
       "      <th>566598</th>\n",
       "      <td>047cd1</td>\n",
       "      <td>1</td>\n",
       "      <td>1</td>\n",
       "      <td>07-04-2020</td>\n",
       "      <td>06-04-2020</td>\n",
       "      <td>01-01-2020</td>\n",
       "      <td>3</td>\n",
       "      <td>2</td>\n",
       "      <td>48</td>\n",
       "      <td>2</td>\n",
       "      <td>2</td>\n",
       "      <td>2</td>\n",
       "      <td>2</td>\n",
       "      <td>2</td>\n",
       "      <td>2</td>\n",
       "      <td>2</td>\n",
       "      <td>2</td>\n",
       "      <td>2</td>\n",
       "      <td>2</td>\n",
       "      <td>2.0</td>\n",
       "      <td>2</td>\n",
       "      <td>Awaited</td>\n",
       "      <td>NaN</td>\n",
       "      <td>7</td>\n",
       "      <td>4</td>\n",
       "      <td>2020</td>\n",
       "      <td>6</td>\n",
       "      <td>4</td>\n",
       "      <td>2020</td>\n",
       "      <td>1</td>\n",
       "      <td>1</td>\n",
       "      <td>2020</td>\n",
       "    </tr>\n",
       "    <tr>\n",
       "      <th>566599</th>\n",
       "      <td>1beb81</td>\n",
       "      <td>1</td>\n",
       "      <td>2</td>\n",
       "      <td>14-05-2020</td>\n",
       "      <td>01-05-2020</td>\n",
       "      <td>01-01-2020</td>\n",
       "      <td>2</td>\n",
       "      <td>1</td>\n",
       "      <td>49</td>\n",
       "      <td>2</td>\n",
       "      <td>2</td>\n",
       "      <td>2</td>\n",
       "      <td>2</td>\n",
       "      <td>2</td>\n",
       "      <td>2</td>\n",
       "      <td>2</td>\n",
       "      <td>2</td>\n",
       "      <td>1</td>\n",
       "      <td>2</td>\n",
       "      <td>2.0</td>\n",
       "      <td>3</td>\n",
       "      <td>Awaited</td>\n",
       "      <td>2.0</td>\n",
       "      <td>14</td>\n",
       "      <td>5</td>\n",
       "      <td>2020</td>\n",
       "      <td>1</td>\n",
       "      <td>5</td>\n",
       "      <td>2020</td>\n",
       "      <td>1</td>\n",
       "      <td>1</td>\n",
       "      <td>2020</td>\n",
       "    </tr>\n",
       "    <tr>\n",
       "      <th>566600</th>\n",
       "      <td>16fb02</td>\n",
       "      <td>1</td>\n",
       "      <td>1</td>\n",
       "      <td>31-05-2020</td>\n",
       "      <td>29-05-2020</td>\n",
       "      <td>01-01-2020</td>\n",
       "      <td>3</td>\n",
       "      <td>1</td>\n",
       "      <td>43</td>\n",
       "      <td>2</td>\n",
       "      <td>2</td>\n",
       "      <td>2</td>\n",
       "      <td>2</td>\n",
       "      <td>2</td>\n",
       "      <td>2</td>\n",
       "      <td>2</td>\n",
       "      <td>2</td>\n",
       "      <td>2</td>\n",
       "      <td>2</td>\n",
       "      <td>2.0</td>\n",
       "      <td>2</td>\n",
       "      <td>Awaited</td>\n",
       "      <td>NaN</td>\n",
       "      <td>31</td>\n",
       "      <td>5</td>\n",
       "      <td>2020</td>\n",
       "      <td>29</td>\n",
       "      <td>5</td>\n",
       "      <td>2020</td>\n",
       "      <td>1</td>\n",
       "      <td>1</td>\n",
       "      <td>2020</td>\n",
       "    </tr>\n",
       "    <tr>\n",
       "      <th>566601</th>\n",
       "      <td>0021c9</td>\n",
       "      <td>2</td>\n",
       "      <td>1</td>\n",
       "      <td>16-05-2020</td>\n",
       "      <td>16-05-2020</td>\n",
       "      <td>01-01-2020</td>\n",
       "      <td>3</td>\n",
       "      <td>1</td>\n",
       "      <td>65</td>\n",
       "      <td>3</td>\n",
       "      <td>1</td>\n",
       "      <td>2</td>\n",
       "      <td>2</td>\n",
       "      <td>2</td>\n",
       "      <td>1</td>\n",
       "      <td>2</td>\n",
       "      <td>2</td>\n",
       "      <td>1</td>\n",
       "      <td>2</td>\n",
       "      <td>2.0</td>\n",
       "      <td>2</td>\n",
       "      <td>Awaited</td>\n",
       "      <td>NaN</td>\n",
       "      <td>16</td>\n",
       "      <td>5</td>\n",
       "      <td>2020</td>\n",
       "      <td>16</td>\n",
       "      <td>5</td>\n",
       "      <td>2020</td>\n",
       "      <td>1</td>\n",
       "      <td>1</td>\n",
       "      <td>2020</td>\n",
       "    </tr>\n",
       "  </tbody>\n",
       "</table>\n",
       "</div>"
      ],
      "text/plain": [
       "            id  sex  patient_type  entry_date date_symptoms   date_died  \\\n",
       "566597  01ff60    2             1  13-05-2020    03-05-2020  01-01-2020   \n",
       "566598  047cd1    1             1  07-04-2020    06-04-2020  01-01-2020   \n",
       "566599  1beb81    1             2  14-05-2020    01-05-2020  01-01-2020   \n",
       "566600  16fb02    1             1  31-05-2020    29-05-2020  01-01-2020   \n",
       "566601  0021c9    2             1  16-05-2020    16-05-2020  01-01-2020   \n",
       "\n",
       "        intubed  pneumonia  age  pregnancy  diabetes  copd  asthma  inmsupr  \\\n",
       "566597        3          2   58          3         1     2       2        2   \n",
       "566598        3          2   48          2         2     2       2        2   \n",
       "566599        2          1   49          2         2     2       2        2   \n",
       "566600        3          1   43          2         2     2       2        2   \n",
       "566601        3          1   65          3         1     2       2        2   \n",
       "\n",
       "        hypertension  other_disease  cardiovascular  obesity  renal_chronic  \\\n",
       "566597             2              2               2        2              2   \n",
       "566598             2              2               2        2              2   \n",
       "566599             2              2               2        1              2   \n",
       "566600             2              2               2        2              2   \n",
       "566601             1              2               2        1              2   \n",
       "\n",
       "        tobacco  contact_other_covid covid_result  icu  entry_date_day  \\\n",
       "566597      2.0                    2      Awaited  NaN              13   \n",
       "566598      2.0                    2      Awaited  NaN               7   \n",
       "566599      2.0                    3      Awaited  2.0              14   \n",
       "566600      2.0                    2      Awaited  NaN              31   \n",
       "566601      2.0                    2      Awaited  NaN              16   \n",
       "\n",
       "        entry_date_month  entry_date_year  date_symptoms_day  \\\n",
       "566597                 5             2020                  3   \n",
       "566598                 4             2020                  6   \n",
       "566599                 5             2020                  1   \n",
       "566600                 5             2020                 29   \n",
       "566601                 5             2020                 16   \n",
       "\n",
       "        date_symptoms_month  date_symptoms_year  date_died_day  \\\n",
       "566597                    5                2020              1   \n",
       "566598                    4                2020              1   \n",
       "566599                    5                2020              1   \n",
       "566600                    5                2020              1   \n",
       "566601                    5                2020              1   \n",
       "\n",
       "        date_died_month  date_died_year  \n",
       "566597                1            2020  \n",
       "566598                1            2020  \n",
       "566599                1            2020  \n",
       "566600                1            2020  \n",
       "566601                1            2020  "
      ]
     },
     "execution_count": 62,
     "metadata": {},
     "output_type": "execute_result"
    }
   ],
   "source": [
    "df.tail()"
   ]
  },
  {
   "cell_type": "code",
   "execution_count": null,
   "metadata": {},
   "outputs": [],
   "source": []
  },
  {
   "cell_type": "code",
   "execution_count": 63,
   "metadata": {},
   "outputs": [
    {
     "data": {
      "text/plain": [
       "id                          0\n",
       "sex                         0\n",
       "patient_type                0\n",
       "entry_date                  0\n",
       "date_symptoms               0\n",
       "date_died                   0\n",
       "intubed                     0\n",
       "pneumonia                   0\n",
       "age                         0\n",
       "pregnancy                   0\n",
       "diabetes                    0\n",
       "copd                        0\n",
       "asthma                      0\n",
       "inmsupr                     0\n",
       "hypertension                0\n",
       "other_disease               0\n",
       "cardiovascular              0\n",
       "obesity                     0\n",
       "renal_chronic               0\n",
       "tobacco                  1907\n",
       "contact_other_covid         0\n",
       "covid_result                0\n",
       "icu                    444814\n",
       "entry_date_day              0\n",
       "entry_date_month            0\n",
       "entry_date_year             0\n",
       "date_symptoms_day           0\n",
       "date_symptoms_month         0\n",
       "date_symptoms_year          0\n",
       "date_died_day               0\n",
       "date_died_month             0\n",
       "date_died_year              0\n",
       "dtype: int64"
      ]
     },
     "execution_count": 63,
     "metadata": {},
     "output_type": "execute_result"
    }
   ],
   "source": [
    "df.isna().sum()"
   ]
  },
  {
   "cell_type": "code",
   "execution_count": 64,
   "metadata": {},
   "outputs": [
    {
     "data": {
      "text/html": [
       "<div>\n",
       "<style scoped>\n",
       "    .dataframe tbody tr th:only-of-type {\n",
       "        vertical-align: middle;\n",
       "    }\n",
       "\n",
       "    .dataframe tbody tr th {\n",
       "        vertical-align: top;\n",
       "    }\n",
       "\n",
       "    .dataframe thead th {\n",
       "        text-align: right;\n",
       "    }\n",
       "</style>\n",
       "<table border=\"1\" class=\"dataframe\">\n",
       "  <thead>\n",
       "    <tr style=\"text-align: right;\">\n",
       "      <th></th>\n",
       "      <th>id</th>\n",
       "      <th>sex</th>\n",
       "      <th>patient_type</th>\n",
       "      <th>entry_date</th>\n",
       "      <th>date_symptoms</th>\n",
       "      <th>date_died</th>\n",
       "      <th>intubed</th>\n",
       "      <th>pneumonia</th>\n",
       "      <th>age</th>\n",
       "      <th>pregnancy</th>\n",
       "      <th>diabetes</th>\n",
       "      <th>copd</th>\n",
       "      <th>asthma</th>\n",
       "      <th>inmsupr</th>\n",
       "      <th>hypertension</th>\n",
       "      <th>other_disease</th>\n",
       "      <th>cardiovascular</th>\n",
       "      <th>obesity</th>\n",
       "      <th>renal_chronic</th>\n",
       "      <th>tobacco</th>\n",
       "      <th>contact_other_covid</th>\n",
       "      <th>covid_result</th>\n",
       "      <th>icu</th>\n",
       "      <th>entry_date_day</th>\n",
       "      <th>entry_date_month</th>\n",
       "      <th>entry_date_year</th>\n",
       "      <th>date_symptoms_day</th>\n",
       "      <th>date_symptoms_month</th>\n",
       "      <th>date_symptoms_year</th>\n",
       "      <th>date_died_day</th>\n",
       "      <th>date_died_month</th>\n",
       "      <th>date_died_year</th>\n",
       "    </tr>\n",
       "  </thead>\n",
       "  <tbody>\n",
       "    <tr>\n",
       "      <th>0</th>\n",
       "      <td>16169f</td>\n",
       "      <td>2</td>\n",
       "      <td>1</td>\n",
       "      <td>04-05-2020</td>\n",
       "      <td>02-05-2020</td>\n",
       "      <td>01-01-2020</td>\n",
       "      <td>3</td>\n",
       "      <td>2</td>\n",
       "      <td>27</td>\n",
       "      <td>3</td>\n",
       "      <td>2</td>\n",
       "      <td>2</td>\n",
       "      <td>2</td>\n",
       "      <td>2</td>\n",
       "      <td>2</td>\n",
       "      <td>2</td>\n",
       "      <td>2</td>\n",
       "      <td>2</td>\n",
       "      <td>2</td>\n",
       "      <td>2.0</td>\n",
       "      <td>2</td>\n",
       "      <td>Positive</td>\n",
       "      <td>1.91697</td>\n",
       "      <td>4</td>\n",
       "      <td>5</td>\n",
       "      <td>2020</td>\n",
       "      <td>2</td>\n",
       "      <td>5</td>\n",
       "      <td>2020</td>\n",
       "      <td>1</td>\n",
       "      <td>1</td>\n",
       "      <td>2020</td>\n",
       "    </tr>\n",
       "    <tr>\n",
       "      <th>1</th>\n",
       "      <td>1009bf</td>\n",
       "      <td>2</td>\n",
       "      <td>1</td>\n",
       "      <td>19-03-2020</td>\n",
       "      <td>17-03-2020</td>\n",
       "      <td>01-01-2020</td>\n",
       "      <td>3</td>\n",
       "      <td>2</td>\n",
       "      <td>24</td>\n",
       "      <td>3</td>\n",
       "      <td>2</td>\n",
       "      <td>2</td>\n",
       "      <td>2</td>\n",
       "      <td>2</td>\n",
       "      <td>2</td>\n",
       "      <td>2</td>\n",
       "      <td>2</td>\n",
       "      <td>2</td>\n",
       "      <td>2</td>\n",
       "      <td>2.0</td>\n",
       "      <td>3</td>\n",
       "      <td>Positive</td>\n",
       "      <td>1.91697</td>\n",
       "      <td>19</td>\n",
       "      <td>3</td>\n",
       "      <td>2020</td>\n",
       "      <td>17</td>\n",
       "      <td>3</td>\n",
       "      <td>2020</td>\n",
       "      <td>1</td>\n",
       "      <td>1</td>\n",
       "      <td>2020</td>\n",
       "    </tr>\n",
       "    <tr>\n",
       "      <th>2</th>\n",
       "      <td>167386</td>\n",
       "      <td>1</td>\n",
       "      <td>2</td>\n",
       "      <td>06-04-2020</td>\n",
       "      <td>01-04-2020</td>\n",
       "      <td>01-01-2020</td>\n",
       "      <td>2</td>\n",
       "      <td>2</td>\n",
       "      <td>54</td>\n",
       "      <td>2</td>\n",
       "      <td>2</td>\n",
       "      <td>2</td>\n",
       "      <td>2</td>\n",
       "      <td>2</td>\n",
       "      <td>2</td>\n",
       "      <td>2</td>\n",
       "      <td>2</td>\n",
       "      <td>1</td>\n",
       "      <td>2</td>\n",
       "      <td>2.0</td>\n",
       "      <td>3</td>\n",
       "      <td>Positive</td>\n",
       "      <td>2.00000</td>\n",
       "      <td>6</td>\n",
       "      <td>4</td>\n",
       "      <td>2020</td>\n",
       "      <td>1</td>\n",
       "      <td>4</td>\n",
       "      <td>2020</td>\n",
       "      <td>1</td>\n",
       "      <td>1</td>\n",
       "      <td>2020</td>\n",
       "    </tr>\n",
       "    <tr>\n",
       "      <th>3</th>\n",
       "      <td>0b5948</td>\n",
       "      <td>2</td>\n",
       "      <td>2</td>\n",
       "      <td>17-04-2020</td>\n",
       "      <td>10-04-2020</td>\n",
       "      <td>01-01-2020</td>\n",
       "      <td>2</td>\n",
       "      <td>1</td>\n",
       "      <td>30</td>\n",
       "      <td>3</td>\n",
       "      <td>2</td>\n",
       "      <td>2</td>\n",
       "      <td>2</td>\n",
       "      <td>2</td>\n",
       "      <td>2</td>\n",
       "      <td>2</td>\n",
       "      <td>2</td>\n",
       "      <td>2</td>\n",
       "      <td>2</td>\n",
       "      <td>2.0</td>\n",
       "      <td>3</td>\n",
       "      <td>Positive</td>\n",
       "      <td>2.00000</td>\n",
       "      <td>17</td>\n",
       "      <td>4</td>\n",
       "      <td>2020</td>\n",
       "      <td>10</td>\n",
       "      <td>4</td>\n",
       "      <td>2020</td>\n",
       "      <td>1</td>\n",
       "      <td>1</td>\n",
       "      <td>2020</td>\n",
       "    </tr>\n",
       "    <tr>\n",
       "      <th>4</th>\n",
       "      <td>0d01b5</td>\n",
       "      <td>1</td>\n",
       "      <td>2</td>\n",
       "      <td>13-04-2020</td>\n",
       "      <td>13-04-2020</td>\n",
       "      <td>22-04-2020</td>\n",
       "      <td>2</td>\n",
       "      <td>2</td>\n",
       "      <td>60</td>\n",
       "      <td>2</td>\n",
       "      <td>1</td>\n",
       "      <td>2</td>\n",
       "      <td>2</td>\n",
       "      <td>2</td>\n",
       "      <td>1</td>\n",
       "      <td>2</td>\n",
       "      <td>1</td>\n",
       "      <td>2</td>\n",
       "      <td>2</td>\n",
       "      <td>2.0</td>\n",
       "      <td>3</td>\n",
       "      <td>Positive</td>\n",
       "      <td>2.00000</td>\n",
       "      <td>13</td>\n",
       "      <td>4</td>\n",
       "      <td>2020</td>\n",
       "      <td>13</td>\n",
       "      <td>4</td>\n",
       "      <td>2020</td>\n",
       "      <td>22</td>\n",
       "      <td>4</td>\n",
       "      <td>2020</td>\n",
       "    </tr>\n",
       "  </tbody>\n",
       "</table>\n",
       "</div>"
      ],
      "text/plain": [
       "       id  sex  patient_type  entry_date date_symptoms   date_died  intubed  \\\n",
       "0  16169f    2             1  04-05-2020    02-05-2020  01-01-2020        3   \n",
       "1  1009bf    2             1  19-03-2020    17-03-2020  01-01-2020        3   \n",
       "2  167386    1             2  06-04-2020    01-04-2020  01-01-2020        2   \n",
       "3  0b5948    2             2  17-04-2020    10-04-2020  01-01-2020        2   \n",
       "4  0d01b5    1             2  13-04-2020    13-04-2020  22-04-2020        2   \n",
       "\n",
       "   pneumonia  age  pregnancy  diabetes  copd  asthma  inmsupr  hypertension  \\\n",
       "0          2   27          3         2     2       2        2             2   \n",
       "1          2   24          3         2     2       2        2             2   \n",
       "2          2   54          2         2     2       2        2             2   \n",
       "3          1   30          3         2     2       2        2             2   \n",
       "4          2   60          2         1     2       2        2             1   \n",
       "\n",
       "   other_disease  cardiovascular  obesity  renal_chronic  tobacco  \\\n",
       "0              2               2        2              2      2.0   \n",
       "1              2               2        2              2      2.0   \n",
       "2              2               2        1              2      2.0   \n",
       "3              2               2        2              2      2.0   \n",
       "4              2               1        2              2      2.0   \n",
       "\n",
       "   contact_other_covid covid_result      icu  entry_date_day  \\\n",
       "0                    2     Positive  1.91697               4   \n",
       "1                    3     Positive  1.91697              19   \n",
       "2                    3     Positive  2.00000               6   \n",
       "3                    3     Positive  2.00000              17   \n",
       "4                    3     Positive  2.00000              13   \n",
       "\n",
       "   entry_date_month  entry_date_year  date_symptoms_day  date_symptoms_month  \\\n",
       "0                 5             2020                  2                    5   \n",
       "1                 3             2020                 17                    3   \n",
       "2                 4             2020                  1                    4   \n",
       "3                 4             2020                 10                    4   \n",
       "4                 4             2020                 13                    4   \n",
       "\n",
       "   date_symptoms_year  date_died_day  date_died_month  date_died_year  \n",
       "0                2020              1                1            2020  \n",
       "1                2020              1                1            2020  \n",
       "2                2020              1                1            2020  \n",
       "3                2020              1                1            2020  \n",
       "4                2020             22                4            2020  "
      ]
     },
     "execution_count": 64,
     "metadata": {},
     "output_type": "execute_result"
    }
   ],
   "source": [
    "df[\"tobacco\"] = df[\"tobacco\"].fillna(df[\"tobacco\"].mean())\n",
    "df[\"icu\"] = df[\"icu\"].fillna(df[\"icu\"].mean())\n",
    "df.head()"
   ]
  },
  {
   "cell_type": "code",
   "execution_count": 65,
   "metadata": {},
   "outputs": [],
   "source": [
    "# df.isna().sum()"
   ]
  },
  {
   "cell_type": "code",
   "execution_count": 102,
   "metadata": {},
   "outputs": [],
   "source": [
    "en1 =df[\"entry_date_day\"]    \n",
    "en2 =df[\"entry_date_month\"]           \n",
    "en3 =df[\"entry_date_year\"]             \n",
    "# date_symptoms_day           \n",
    "# date_symptoms_month         \n",
    "# date_symptoms_year          \n",
    "# date_died_day           \n",
    "# date_died_month             \n",
    "# date_died_year"
   ]
  }
 ],
 "metadata": {
  "kernelspec": {
   "display_name": "Python 3",
   "language": "python",
   "name": "python3"
  },
  "language_info": {
   "codemirror_mode": {
    "name": "ipython",
    "version": 3
   },
   "file_extension": ".py",
   "mimetype": "text/x-python",
   "name": "python",
   "nbconvert_exporter": "python",
   "pygments_lexer": "ipython3",
   "version": "3.6.5"
  }
 },
 "nbformat": 4,
 "nbformat_minor": 2
}
